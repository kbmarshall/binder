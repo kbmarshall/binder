{
 "cells": [
  {
   "cell_type": "markdown",
   "id": "7e6cc568-a008-40f1-9e1d-08ff81831a34",
   "metadata": {},
   "source": [
    "## Lab 4 - Vectors and Functions\n",
    "### PHYS 163\n",
    "\n",
    "***"
   ]
  },
  {
   "cell_type": "markdown",
   "id": "56a7fe83-9d2b-4fd7-8ce4-c037b6d741bd",
   "metadata": {},
   "source": [
    "In this lab we will look at adding vectors, both experimentally and analytically in Python.\n",
    "\n",
    "#### Experimental Procedure:\n",
    "\n",
    "On your lab bench is a force table with four pulleys.  Strings are attached to a ring at the center, and then run over the pulley to a hanging mass.  In this lab, we will use the mass attached to each string (along with the direction of the string) as a vector to add.\n",
    "\n",
    "* Mount a pulley on the table at the 35$^{\\circ}$ mark, and suspend a total of 55 grams from the string.  Note the plastic hangers have a mass of 5 grams.  This is force $\\vec{A}$.\n",
    "\n",
    "* Suspend a total of 155 grams from the 130$^{\\circ}$ mark of the table.  This is force $\\vec{B}$.\n",
    "\n",
    "* Suspend a total of 75 grams from the 200$^{\\circ}$ mark of the table.  This is force $\\vec{C}$.\n",
    "\n",
    "Our goal in this lab is to find the fourth vector $\\vec{D}$ such that the net force will be zero, or in other words:\n",
    "\n",
    "$$ \\vec{A} + \\vec{B} + \\vec{C} + \\vec{D} = 0$$\n",
    "\n",
    "* Using a process of trial and error, find the magnitude and direction necessary for the fourth pulley $\\vec{D}$ such that the net force is zero. The ring should be centered on the force table, and displacing it by a small amount should return it to center.  There should be no directional preference in which way the ring wants to move.  If there is, add/subtract mass to the fourth pulley or change the angle by a small amount.  Once the system is in equilibrium, record the magnitude (in units of grams) and direction of this vector.\n",
    "\n",
    "* Find the experimental uncertainty in both the magnitude and direction of $\\vec{D}$ by observing the effect of small changes in both the weight and direction of this force.  Start by adding a small amount of mass to $\\vec{D}$ until you find the maximum amount at which the system is still in equilibrium.  Then remove mass until you find the minimum amount which will still balance the system.  This will give you the uncertainty in the magnitude of $\\vec{D}$.\n",
    "\n",
    "* In a similar fashion, change the angle of $\\vec{D}$ until the system is no longer in equilibrium, first by increasing the angle and then decreasing it. This will give you an estimate for the uncertainty in the angle of $\\vec{D}$.\n",
    "\n",
    "Now we will calculate the sum of all four vectors, and see if their sum is consistent with zero (within the uncertainties).  Just like any other vectors, we will calculate the sum by breaking the vectors into components and then adding the components.  If the sum of all four vectors is zero, that means both the x-component and the y-components of the sum should be zero as well.\n",
    "\n",
    "Before you do that, let's discuss functions in Python.\n",
    "\n",
    "***"
   ]
  },
  {
   "cell_type": "markdown",
   "id": "5d22bd11-d166-4105-bb12-a510a1a1a66a",
   "metadata": {},
   "source": [
    "### Functions in Python\n",
    "\n",
    "In mathematics, a function is something which takes an input, performs some calculation, and then spits out a value.  For example, $y(x) = 3x^2$ will take a value for $x$, square it, multiply it by 3, and then that value is $y$.\n",
    "\n",
    "In Python, functions work much the same way.  You give the function one or more variables, the function does something with those variables, and then returns one or more numbers to whatever called the function.  Functions can also return text or other objects, but we won't use that here.\n",
    "\n",
    "Functions are great if you need to perform something multiple times.  Instead of having the same (potentially lengthy) block of code 10 times, you can define a function and then call the function 10 times.\n",
    "\n",
    "To create a function, use the command `def` followed by the name of the function, and then a pair of parenthesis.  Within the parenthesis you can define any values which the function would use.  The next line, which must be indented using a tab or space, contains your function.  At the end you should have a return statement, which will send the output of the function back to whatever called it.\n",
    "\n",
    "It's easier to show than to explain, so let's take a look at an example:"
   ]
  },
  {
   "cell_type": "code",
   "execution_count": 1,
   "id": "0d39c590-6f60-4632-9647-33b9d4c8486a",
   "metadata": {},
   "outputs": [],
   "source": [
    "def squaredPlusThree(x):\n",
    "    y = x**2 + 3\n",
    "    return y"
   ]
  },
  {
   "cell_type": "markdown",
   "id": "20f981ea-5356-4dd8-b3a9-c845ce7d9076",
   "metadata": {},
   "source": [
    "This is a function which takes a single input `x`, then squares it and adds three.  The value is stored in `y`, which is then returned back to whatever called it.  We can call the function like so:"
   ]
  },
  {
   "cell_type": "code",
   "execution_count": 2,
   "id": "e8fee95b-43bb-4028-96dc-ce586ac0fe54",
   "metadata": {},
   "outputs": [
    {
     "data": {
      "text/plain": [
       "67"
      ]
     },
     "execution_count": 2,
     "metadata": {},
     "output_type": "execute_result"
    }
   ],
   "source": [
    "squaredPlusThree(8)"
   ]
  },
  {
   "cell_type": "markdown",
   "id": "a6ed4e62-3564-4314-95d9-124df00f855e",
   "metadata": {},
   "source": [
    "Note that we must define our function before we use it, otherwise it will throw an error.\n",
    "\n",
    "Here is a function which takes two input variables:"
   ]
  },
  {
   "cell_type": "code",
   "execution_count": 3,
   "id": "a09fb685-6395-4fca-95d8-0725bf06b7b8",
   "metadata": {},
   "outputs": [],
   "source": [
    "def timesPlusTwo(x,y):\n",
    "    z = x*y + 2\n",
    "    return z"
   ]
  },
  {
   "cell_type": "markdown",
   "id": "f070b7f4-bfd1-49f6-8a69-4dd7b95a4cae",
   "metadata": {},
   "source": [
    "This function multiplies the two inputs and adds two."
   ]
  },
  {
   "cell_type": "code",
   "execution_count": 4,
   "id": "95106d62-8114-47f3-8b74-5c1f9ad624b4",
   "metadata": {},
   "outputs": [
    {
     "data": {
      "text/plain": [
       "17"
      ]
     },
     "execution_count": 4,
     "metadata": {},
     "output_type": "execute_result"
    }
   ],
   "source": [
    "timesPlusTwo(3,5)"
   ]
  },
  {
   "cell_type": "markdown",
   "id": "106c6a20-467a-4a30-a013-88da4b7d4dd2",
   "metadata": {},
   "source": [
    "We can also define a function which returns two (or more) numbers."
   ]
  },
  {
   "cell_type": "code",
   "execution_count": 5,
   "id": "6541d72c-4e77-4dca-82af-d81e20ef21cc",
   "metadata": {},
   "outputs": [],
   "source": [
    "def sendBackTwo(x):\n",
    "    y = 2*x\n",
    "    z = x/2\n",
    "    return y,z"
   ]
  },
  {
   "cell_type": "markdown",
   "id": "4ed871c8-c080-40c4-8ae6-28ec8eadb8ee",
   "metadata": {},
   "source": [
    "This will multiply a number by two, divide it by two, and then return both."
   ]
  },
  {
   "cell_type": "code",
   "execution_count": 6,
   "id": "bd0d0d4d-eb16-4011-b2d7-7df292719186",
   "metadata": {},
   "outputs": [
    {
     "data": {
      "text/plain": [
       "(14, 3.5)"
      ]
     },
     "execution_count": 6,
     "metadata": {},
     "output_type": "execute_result"
    }
   ],
   "source": [
    "sendBackTwo(7)"
   ]
  },
  {
   "cell_type": "markdown",
   "id": "1426764f-6055-4b7a-95d6-012326ff5984",
   "metadata": {},
   "source": [
    "If you have an array (or list) in Python, you can select one element using square brackets, followed by the list element number. Note that in Python, lists start with index zero.\n",
    "\n",
    "Example:"
   ]
  },
  {
   "cell_type": "code",
   "execution_count": 7,
   "id": "53774590-ef36-4a9b-b116-06f973e03ded",
   "metadata": {},
   "outputs": [
    {
     "name": "stdout",
     "output_type": "stream",
     "text": [
      "10\n",
      "2.5\n"
     ]
    }
   ],
   "source": [
    "x = sendBackTwo(5)\n",
    "print(x[0])\n",
    "print(x[1])"
   ]
  },
  {
   "cell_type": "markdown",
   "id": "c9cb73f7-ddb9-4b05-b16a-eefb299d9f4b",
   "metadata": {},
   "source": [
    "If a function returns two numbers, you can also assign them to two variables:"
   ]
  },
  {
   "cell_type": "code",
   "execution_count": 8,
   "id": "2e47f95e-d2c0-4953-a07a-e642c15309f0",
   "metadata": {},
   "outputs": [
    {
     "name": "stdout",
     "output_type": "stream",
     "text": [
      "24\n",
      "6.0\n"
     ]
    }
   ],
   "source": [
    "a,b = sendBackTwo(12)\n",
    "print(a)\n",
    "print(b)"
   ]
  },
  {
   "cell_type": "markdown",
   "id": "486c747d-36fa-46cf-bb62-ffff8cc67f64",
   "metadata": {},
   "source": [
    "Okay, now back to vectors.\n",
    "\n",
    "***"
   ]
  },
  {
   "cell_type": "markdown",
   "id": "29e2a11e-e057-4e65-97e2-dc188f03915d",
   "metadata": {},
   "source": [
    "### Adding our vectors\n",
    "\n",
    "Create a function (or perhaps 2 functions) which will calculate the x and y components of the sum of all four vectors, $\\vec{A} + \\vec{B} + \\vec{C} + \\vec{D} = \\vec{F}$. If the total force $\\vec{F}$ is zero, that means the components $F_{\\rm x}$ and $F_{\\rm y}$ should be zero as well.  \n",
    "\n",
    "A few notes about finding the components:\n",
    "\n",
    "* If the angle $\\theta$ for the vector $\\vec{A}$ is measured with respect to the x-axis, the x-component is **always** $A \\cos \\theta$ and the y-component is **always** $A \\sin \\theta$.  In this case, the negative sign for each component is taken care of since $\\theta$ can be greater than $90^{\\circ}$.\n",
    "\n",
    "* Numpy has functions to calculate $\\sin$ and $\\cos$.  They are:\n",
    "\n",
    "`np.sin()`\n",
    "\n",
    "`np.cos()`\n",
    "\n",
    "Make sure to `import numpy as np` before using those functions.\n",
    "\n",
    "* Similar to Excel, numpy expects angles to be in radians.  You can either convert the angle manually to radians, or numpy has a built in function for that as well:  `np.deg2rad()`\n",
    "\n",
    "Once you calculate the x and y components of each vector, we can see if the net force is consistent with zero.  Add the components for each vector:\n",
    "\n",
    "$$ A_{\\rm x} + B_{\\rm x} + C_{\\rm x} + D_{\\rm x} = F_{\\rm x}$$\n",
    "\n",
    "$$ A_{\\rm y} + B_{\\rm y} + C_{\\rm y} + D_{\\rm y} = F_{\\rm y}$$\n",
    "\n",
    "Hopefully you will have values for $F_{\\rm x}$ and $F_{\\rm y}$ close to zero, although it's very unlikely that it will be exactly zero.  However we can also calculate the uncertainty for the total force, given the uncertainty in the magnitude and angle for our fourth vector.  The method is outlined below.\n",
    "\n",
    "***"
   ]
  },
  {
   "cell_type": "markdown",
   "id": "585c4680-85f7-4a11-9af7-b1b114cb46a1",
   "metadata": {},
   "source": [
    "### Finding the uncertainty in the sum\n",
    "\n",
    "Given the uncertainty in the magnitude of our fourth vector $D$ and the angle $\\theta_{\\rm D}$, we can calculate the uncertainty in the sum of all four vectors.  For the sake of simplicity, **we will consider the magnitudes and angles of the other three vectors to be exact.**\n",
    "\n",
    "In brief, we will change the magnitude (mass) of $D$ by its uncertainty.  This will result in new x and y components for our total force ($F_{\\rm x}$ and $F_{\\rm y}$).  If we subtract the original magnitude found above, that will yield the uncertainty due to the magnitude of $D$.  In math terms, if we use $\\delta$ to designate the uncertainty in a quantity:\n",
    "\n",
    "$$ \\delta F_{\\rm x} (D)  = F_{\\rm x} (D + \\delta D, \\theta) - F_{\\rm x} (D, \\theta) $$\n",
    "\n",
    "Here $D$ is the magnitude of vector $\\vec{D}$ (the mass) and $\\delta D$ is the uncertainty in the mass you found experimentally.\n",
    "\n",
    "Recalculate the x and y components of the net force after changing the magnitude of $D$ by its uncertainty, and record the new values.  Subtract the original x and y components to yield the uncertainty in $F_{\\rm x}$ and $F_{\\rm y}$ due to the uncertainty of the mass.\n",
    "\n",
    "Now use the original value of $D$, and change $\\theta_{\\rm D}$ by its uncertainty.  This will result in new x and y components for the sum.  Once again, if you subtract the original components this will yield the uncertainty in $F_{\\rm x}$ and $F_{\\rm y}$ due to the uncertainty in $\\theta$.\n",
    "\n",
    "$$\\delta F_{\\rm x} (\\theta) = F_{\\rm x} (D, \\theta_{\\rm D} + \\delta \\theta_{\\rm D}) - F_{\\rm x} (D, \\theta_{\\rm D})$$\n",
    "\n",
    "Again, change $\\theta_{\\rm D}$ by its uncertainty and find new x and y components for the total force.  Subtract the original x and y components to yield the uncertainty in $F_{\\rm x}$ and $F_{\\rm y}$ due to the uncertainty in $\\theta_{\\rm D}$.\n",
    "\n",
    "By comparing the relative sizes of each uncertainty ($\\delta F_{\\rm x} (D)$ and $\\delta F_{\\rm y} (\\theta_{\\rm D})$, you can determine which has a larger overall effect on the uncertainty of the components of $\\vec{F}$.\n",
    "\n",
    "To calculate the overall uncertainty in $F_{\\rm x}$, we add them in quadrature.  That means squaring each, adding them, and taking the square root:\n",
    "\n",
    "$$\\delta F_{\\rm x} = \\sqrt{(\\delta F_{\\rm x} (D))^2 + (\\delta F_{\\rm x} (\\theta_{\\rm D}))^2}$$\n",
    "\n",
    "The net force in the x direction can now be reported as $F_{\\rm x} \\pm \\delta F_{\\rm x}$.\n",
    "\n",
    "Do the same thing in the y direction, to find the overall uncertainty in y component of the net force $\\delta F_{\\rm y}$.\n",
    "\n",
    "Now that we have the components of $\\vec{F}$ and their uncertainties, we can assess whether our sum is consistent with zero.\n",
    "\n",
    "***\n"
   ]
  },
  {
   "cell_type": "markdown",
   "id": "50994392-6cc1-4630-9607-0ed8dbeba170",
   "metadata": {},
   "source": [
    "### To be included in your lab report:\n",
    "\n",
    "* The usual header w/ the lab title, your name, etc.\n",
    "\n",
    "* A brief description of your measurements and how you estimated the uncertainty in both the mass and angle for $\\vec{D}$.\n",
    "\n",
    "* All of your code showing calculations for the components of the net force, and the uncertainty in each component due to the magnitude of $\\vec{D}$ and its angle.  Make sure  your code is neat and compact, with clear explanations of what you are doing.\n",
    "\n",
    "* Discussion of whether your components are consistent with zero net force.\n",
    "\n",
    "* Discussion of which had the larger impact on the overall uncertainty - the uncertainty from the mass on the hanger or the angle of the string.\n",
    "\n",
    "* Given above, what potential improvements could you make to the experiment to reduce the uncertainty above?"
   ]
  }
 ],
 "metadata": {
  "kernelspec": {
   "display_name": "Python 3",
   "language": "python",
   "name": "python3"
  },
  "language_info": {
   "codemirror_mode": {
    "name": "ipython",
    "version": 3
   },
   "file_extension": ".py",
   "mimetype": "text/x-python",
   "name": "python",
   "nbconvert_exporter": "python",
   "pygments_lexer": "ipython3",
   "version": "3.8.8"
  }
 },
 "nbformat": 4,
 "nbformat_minor": 5
}
