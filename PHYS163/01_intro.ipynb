{
 "cells": [
  {
   "cell_type": "markdown",
   "id": "01d584cc",
   "metadata": {
    "tags": []
   },
   "source": [
    "# PHYS 163 - Physics I Lab\n",
    "\n",
    "***\n",
    "\n",
    "### JupyterLab and Markdown - A brief introduction\n",
    "\n",
    "Documents (such as this one) in JupyterLab are referred to as \"notebooks.\"  Notebooks consist of \"cells,\" of which there are two types:\n",
    "\n",
    " * **Markdown**, which is used to write plain text (like this)\n",
    " * **Code**, which is used to perform some type of computation\n",
    "\n",
    "When you open a notebook, the markdown cells inside are usually \"rendered.\"  This means the markdown has been processed to show the intended output.  You can view the markdown code by double clicking on a cell (try it on this one).  Once you make changes to a cell, you can either press shift+Enter to evaluate the cell, or click on the \"Play\" arrow at the top of the notebook (try it now).  To evaluate all cells, click on the double-arrow at the top of the cell.\n",
    "\n",
    "To create a new cell, click on the \"Plus\" sign at the top of the notebook.  A new cell can take one of two possible formats:  markdown or code.  A code cell will have an empty pair of square brackets just to the left.  If you wish to convert this to a markdown cell, enter the cell and then choose \"Markdown\" from the menu just above your notebook.\n",
    "\n",
    "Much of your lab report will be written in markdown, although the actual data entry and calculations during lab will be done in python code.\n",
    "\n",
    "Let's try a simple command in a code cell:"
   ]
  },
  {
   "cell_type": "code",
   "execution_count": 1,
   "id": "5cafa95f-7e64-4ab9-85d4-6b202f6badb2",
   "metadata": {},
   "outputs": [
    {
     "name": "stdout",
     "output_type": "stream",
     "text": [
      "Hello, world\n"
     ]
    }
   ],
   "source": [
    "print(\"Hello, world\")"
   ]
  },
  {
   "cell_type": "markdown",
   "id": "0f2bd000-7525-4f43-9bcf-d83c108e9c8c",
   "metadata": {},
   "source": [
    "That was easy.   Markdown is relatively simple to use.  If you forget some of the commands, you can find a [cheat sheet here](https://www.markdownguide.org/basic-syntax/), or you can view the markdown syntax in this document to see how it was made.\n",
    "\n",
    "For each lab report, you should have a markdown cell at the top which includes:\n",
    "\n",
    "* Your name\n",
    "* The lab number and the name of the lab\n",
    "* PHYS 163 and your lab instructor's name\n",
    "* A list of your group mates\n",
    "\n",
    "The last two can be in a smaller heading size if you wish."
   ]
  },
  {
   "cell_type": "markdown",
   "id": "4c363caa-8f6a-45ae-927b-15bfbeee951a",
   "metadata": {},
   "source": [
    "### Lab activity:\n",
    "\n",
    "This week we will be looking at the period of a simple pendulum, and comparing results.\n",
    "\n",
    "* Attached to your lab table you will find a pendulum.  Measure the length of the string, and either wind or unwind some string to get it as close to 1.5 meters as possible.\n",
    "\n",
    "* Pull the pendulum back to an angle of $10^{\\circ}$.  You should be able to find that angle without using a protractor or guessing.  After releasing it, use the stopwatch to measure the period of the pendulum ten times.  (**note:** do not measure the period for ten oscillations, instead measure the period of a single oscillation ten times)\n",
    "\n",
    "\n",
    "* Have each person in your lab group perform the measurements above.\n",
    "\n",
    "You should now have 20-40 data points for the period, depending on how many people are in your lab group.  Let's enter the data in python, and perform some analysis.\n",
    "\n",
    "Data in python can be entered into an array, which is basically a list.  Arrays are designated by square brackets, with commas separating the elements.  For example:"
   ]
  },
  {
   "cell_type": "code",
   "execution_count": 2,
   "id": "a936662c-3a5c-4110-9a12-621c947e88c6",
   "metadata": {},
   "outputs": [],
   "source": [
    "a=[1,2,3,4]"
   ]
  },
  {
   "cell_type": "markdown",
   "id": "0bd1f765-3571-4a2b-b027-5d3cf693d4ae",
   "metadata": {},
   "source": [
    "Place all of your measurements into a single array.  Make sure to give your arrays good names so that it's clear to anyone reading your notebook which is which.\n",
    "\n",
    "Now we can do some analysis on your data.  For that, we'll use a set of libraries for python called numpy.  This contains a large number of statistical and mathematical tools.  We'll only use a small number of them, but numpy is a *very* popular library for python.  To import the numpy library place the following in a code cell:"
   ]
  },
  {
   "cell_type": "code",
   "execution_count": 3,
   "id": "1d887440-0eae-4ce2-a7ce-f27748d2b2dc",
   "metadata": {},
   "outputs": [],
   "source": [
    "import numpy as np"
   ]
  },
  {
   "cell_type": "markdown",
   "id": "0ed14875-c366-447b-b169-1fb25ca161b8",
   "metadata": {},
   "source": [
    "The second half of that command (`as np`) will let us preface any numpy command with np.\n",
    "\n",
    "Let's start by taking the average (or mean) of your data sets.  First we can try adding up all of the values, and dividing by the number of measurements:"
   ]
  },
  {
   "cell_type": "code",
   "execution_count": 4,
   "id": "0e2211a7",
   "metadata": {},
   "outputs": [
    {
     "data": {
      "text/plain": [
       "2.5"
      ]
     },
     "execution_count": 4,
     "metadata": {},
     "output_type": "execute_result"
    }
   ],
   "source": [
    "sum(a)/len(a)"
   ]
  },
  {
   "cell_type": "markdown",
   "id": "6f1d2310",
   "metadata": {},
   "source": [
    "In the calculation above, there are two important things going on.  First, we add up all of the values in the list `a` by using `sum(a)`.  The command `len(a)` gives us the length of array `a`, which in this case is 4 (since there are 4 numbers in it).\n",
    "\n",
    "We can also use a built-in command from numpy to find the mean:"
   ]
  },
  {
   "cell_type": "code",
   "execution_count": 5,
   "id": "49d23914-99a9-440f-b4ab-34ac053590b3",
   "metadata": {},
   "outputs": [
    {
     "data": {
      "text/plain": [
       "2.5"
      ]
     },
     "execution_count": 5,
     "metadata": {},
     "output_type": "execute_result"
    }
   ],
   "source": [
    "np.mean(a)"
   ]
  },
  {
   "cell_type": "markdown",
   "id": "e6198c03-92bd-488d-a74f-8b91c09320f5",
   "metadata": {},
   "source": [
    "We can use the standard deviation to find the \"scatter\" of your data points, which is how much your data vary from the mean.  Mathematically, the standard deviation is defined as:\n",
    "\n",
    "$$ \\sigma = \\sqrt{\\frac{1}{N} \\Sigma_{i=1}^{N} (x_i - \\bar{x})^2}$$\n",
    "\n",
    "To find it, we take each data point and subtract the average.  Then we square that value, since it doesn't matter whether that value is larger or smaller than the average, only how far away it is.  That gives us the \"deviation.\"  Then we add them all up, divide by the number of data points ($N$), and take the square root.\n",
    "\n",
    "Let's try calculating the standard deviation ourselves, and then we'll use a numpy function.  Use something similar to the code below:"
   ]
  },
  {
   "cell_type": "code",
   "execution_count": 6,
   "id": "3059ae92-d2e5-4fd1-a954-e71218a96136",
   "metadata": {},
   "outputs": [
    {
     "name": "stdout",
     "output_type": "stream",
     "text": [
      "[1 2 3 4]\n"
     ]
    }
   ],
   "source": [
    "a = np.array(a)\n",
    "print(a)"
   ]
  },
  {
   "cell_type": "markdown",
   "id": "599d49c2-a903-408e-b96e-8b11dba3362c",
   "metadata": {},
   "source": [
    "The command above will convert our list `a` into a numpy array, which will allow us to perform mathematical operations on it.  In general, most lists of numbers that you enter will need to be converted as above. Continuing on,"
   ]
  },
  {
   "cell_type": "code",
   "execution_count": 7,
   "id": "81309d73-4907-4c7c-b4a9-cafc260d520d",
   "metadata": {
    "scrolled": true
   },
   "outputs": [
    {
     "name": "stdout",
     "output_type": "stream",
     "text": [
      "[-1.5 -0.5  0.5  1.5]\n",
      "[2.25 0.25 0.25 2.25]\n",
      "5.0\n",
      "1.118033988749895\n"
     ]
    }
   ],
   "source": [
    "b = a - np.mean(a)      # Subtract the mean from our individual data points\n",
    "print(b)\n",
    "c = b**2                # Square the mean-subtracted values\n",
    "print(c)\n",
    "d = c.sum()             # Add up all the values from above\n",
    "print(d)\n",
    "e = np.sqrt(d/len(a))   # Divide by the number of data points and take the square root\n",
    "print(e)"
   ]
  },
  {
   "cell_type": "markdown",
   "id": "4c139afa-4099-498e-b3ce-970556e316fe",
   "metadata": {},
   "source": [
    "Note that I broke down each step in the calculation, and then printed the output so that you can see what's going on.\n",
    "\n",
    "Exponents in Python are calculated using a double-asterisk.  You can use exponents that are less than one, for example `x**0.5` is the same as $\\sqrt{x}$.\n",
    "\n",
    "You should be able to condense your calculation down to 1-2 lines.\n",
    "\n",
    "We can also use the built-in numpy function to find the standard deviation:"
   ]
  },
  {
   "cell_type": "code",
   "execution_count": 8,
   "id": "dd8e11f3-b38e-4426-99f4-1f7cfa6b2ae6",
   "metadata": {},
   "outputs": [
    {
     "data": {
      "text/plain": [
       "1.118033988749895"
      ]
     },
     "execution_count": 8,
     "metadata": {},
     "output_type": "execute_result"
    }
   ],
   "source": [
    "np.std(a)"
   ]
  },
  {
   "cell_type": "markdown",
   "id": "b28748d8",
   "metadata": {},
   "source": [
    "For your data set, find the mean and standard deviation.  These represent your best estimates for each value and its uncertainty."
   ]
  },
  {
   "cell_type": "markdown",
   "id": "ef68eabc",
   "metadata": {},
   "source": [
    "### Histograms\n",
    "\n",
    "One of the best ways we can represent your data is with a histogram.  A histogram divides the data into discrete 'bins' and then plots the number of data points in each bin.  To make plots in python, we use a library called `matplotlib`, which creates plots using the same kind of syntax as Matlab.  Let's try making a histogram of some data:"
   ]
  },
  {
   "cell_type": "code",
   "execution_count": 17,
   "id": "e5d6f083",
   "metadata": {},
   "outputs": [
    {
     "data": {
      "image/png": "[encoded data removed]",
      "text/plain": [
       "<Figure size 432x288 with 1 Axes>"
      ]
     },
     "metadata": {
      "needs_background": "light"
     },
     "output_type": "display_data"
    }
   ],
   "source": [
    "import matplotlib.pyplot as plt\n",
    "\n",
    "fakedata = np.random.randn(100)                # Make 100 fake data points; you can ignore this\n",
    "\n",
    "plt.hist(fakedata,bins=20)                     # Make a histogram with 20 bins\n",
    "plt.xlabel('Random Value',fontsize='large')    # Label the x and y axes\n",
    "plt.ylabel('N per bin',fontsize='large')\n",
    "plt.show()                                     # Show the histogram"
   ]
  },
  {
   "cell_type": "markdown",
   "id": "78cd5488",
   "metadata": {},
   "source": [
    "When making a histogram, one of the choice we have is the number of bins.  If you give `matplotlib` the number of bins, it will automatically group your data into equally spaced bins that range from the largest to smallest value. \n",
    "\n",
    "If you don't have enough bins, you won't be able to see any sort of pattern in your data.  (try running the plot above with 3 bins).  However if you have too many bins, your histogram won't show you much at all  (try again with 80 bins to see the effect).\n",
    "\n",
    "* For your data, create a histogram with an appropriate number of bins (i.e. not too few or too many).  This is somewhat subjective, but play around and see what you think is best."
   ]
  },
  {
   "cell_type": "markdown",
   "id": "b4e3b4c9",
   "metadata": {},
   "source": [
    "***\n",
    "\n",
    "### Writing equations in Markdown\n",
    "\n",
    "For entering equations in markdown, you can use LaTeX equation format.  LaTeX is a typesetting language which allows a *huge* amount of control over the publishing of scientific and technical documents.  It is commonly used in the physical sciences and mathematics.  Thankfully we are only going to use the mathematical equation formattting capabilities.\n",
    "\n",
    "Any equation in LaTeX should be enclosed by $ signs (either one or two at each end).  For example:\n",
    "\n",
    "$A = B+C$\n",
    "\n",
    "$$A = B+C$$\n",
    "\n",
    "Look at the raw markdown code and make sure you understand the difference between the two formats.\n",
    "\n",
    "Equations are (relatively) simple to enter in LaTeX format.  Superscripts and subscripts are denoted by ^ and _ respectively.  If you have more than one character which is sub- or super-script, it should be enclosed by curly braces.  For example:\n",
    "\n",
    "$$x^23_i,j$$\n",
    "\n",
    "vs.\n",
    "\n",
    "$$x^{23}_{i,j}$$\n",
    "\n",
    "Greek letters are denoted by a backslash, and then the name of the letter.  For capital greek letters, begin the letter name with a capital as well.  For example, $\\delta$ and $\\Delta$.\n",
    "\n",
    "For a fraction, use the \\frac command followed by two pairs of curly braces - one for the numerator and one for the denominator.\n",
    "\n",
    "$$ z = \\frac{x}{y}$$\n",
    "\n",
    "If you try to put parenthesis around a fraction, they will be too small:\n",
    "\n",
    "$$z = ( \\frac{x}{y})^2$$\n",
    "\n",
    "So we can use \\left( and \\right) which will tell LaTeX to automatically size the parenthesis to whatever is inside.\n",
    "\n",
    "$$z = \\left( \\frac{x}{y} \\right)^2$$\n",
    "\n",
    "Mathematical functions are usually prefaced by a backslash, for example $\\sin$, $\\log$ or $\\sqrt{2}$.\n",
    "\n",
    "For vectors, use \\vec followed by a pair of curly braces for the actual vector:\n",
    "\n",
    "$$\\vec{F} = m\\vec{a}$$\n",
    "\n",
    "That covers most of the basics. It's easy once you get the hang of it. If you forget some of the symbols or commands, you can find a cheat sheet [here](http://tug.ctan.org/info/undergradmath/undergradmath.pdf).\n",
    "\n",
    "---"
   ]
  },
  {
   "attachments": {
    "equation-2.gif": {
     "image/gif": "[encoded data removed]"
    }
   },
   "cell_type": "markdown",
   "id": "e8217b76",
   "metadata": {},
   "source": [
    "### What to put in your lab report\n",
    "\n",
    "Your lab report should be in the form of a Jupyter notebook.  The markdown cells will be used to explain what you did, and in between there should be code cells which contain your actual data and the analysis.  You can find an example notebook (in the format of a lab report) in the files section of Canvas.  Note that this is a pdf file - I don't want you to be able to spy on my markdown code and copy what I did!\n",
    "\n",
    "Your notebook should have the following:\n",
    "\n",
    "* A header section as detailed at the beginning of this notebook\n",
    "\n",
    "* A bullet-point list in markdown of other courses you are taking this semester (I don't really care what classes you are taking, I just want to see that you can make a bullet-point list)\n",
    "\n",
    "* A code cell that uses a print() statement to print your name\n",
    "\n",
    "* Markdown text that uses LaTeX equation format to print the following equation:\n",
    "\n",
    "![equation-2.gif](attachment:equation-2.gif)\n",
    "\n",
    "* A code cell that actually calculates the value of the equation above\n",
    "\n",
    "* A markdown cell which describes in detail the measurements you made with the pendulum, and how you found the $10^{\\circ}$ angle\n",
    "\n",
    "* Data arrays with your period measurements\n",
    "\n",
    "* Calculations for the mean and standard deviation for your data.  You should calculate these quantities the long way, i.e. not using the numpy built-in functions `np.mean()` and `np.std()`.  Show that the result you get is the same as the numpy functions.\n",
    "\n",
    "* A histogram for your data, with an appropriate number of bins to show the spread in values\n",
    "\n",
    "* Calculation of the theoretically expected value of the period, given by:\n",
    "\n",
    "$$T = 2\\pi \\sqrt{\\frac{L}{g}}$$\n",
    "\n",
    "where $L$ is the length of the pendulum and $g=9.81~\\mbox{m/s}^2$ is the acceleration due to gravity.\n",
    "\n",
    "* Discussion of whether your value agrees with the theoretical value."
   ]
  },
  {
   "cell_type": "code",
   "execution_count": null,
   "id": "38576bd1-3519-4e02-954d-3d917dd03c0d",
   "metadata": {},
   "outputs": [],
   "source": []
  }
 ],
 "metadata": {
  "kernelspec": {
   "display_name": "Python 3",
   "language": "python",
   "name": "python3"
  },
  "language_info": {
   "codemirror_mode": {
    "name": "ipython",
    "version": 3
   },
   "file_extension": ".py",
   "mimetype": "text/x-python",
   "name": "python",
   "nbconvert_exporter": "python",
   "pygments_lexer": "ipython3",
   "version": "3.8.8"
  }
 },
 "nbformat": 4,
 "nbformat_minor": 5
}
