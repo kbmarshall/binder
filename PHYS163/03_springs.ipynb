{
 "cells": [
  {
   "cell_type": "markdown",
   "id": "9014fe04-84da-4e6e-a334-39c4b1474199",
   "metadata": {},
   "source": [
    "## Lab 3 - Springs and Model Fitting\n",
    "\n",
    "\n",
    "***"
   ]
  },
  {
   "cell_type": "markdown",
   "id": "c2ebb3cc-805f-4ae0-a711-cecac8182b04",
   "metadata": {},
   "source": [
    "Hooke's Law is a model which describes the relationship between the force $\\vec{F}$ and stretch $\\Delta x$ of a spring.  \n",
    "\n",
    "$$ F = -k \\Delta x$$\n",
    "\n",
    "Here, the negative sign indicates the force always acts opposite to displacement.  Regardless of whether you stretch or compress the spring, it always wants to return back to its equilibrium length.  The constant $k$ is called the spring constant, and measures how stiff the spring is.  It has units of N/m, and tells us how many newtons of force must be applied to stretch the spring 1 m.\n",
    "\n",
    "Over the next two lab sessions, you will develop a number of experiments to test this model under a number of conditions.\n",
    "\n",
    "Some research questions you may want to consider:\n",
    "\n",
    "* How do measurements taken at the same position compare over time?\n",
    "\n",
    "* How does the validity of Hooke's law depend on the spring or material used?\n",
    "\n",
    "* How do measurements at the same position compare when the string is being stretched, vs. relaxed?\n",
    "\n",
    "* Are there modifications you can make to Hooke's law to account for limitations?\n",
    "\n",
    "* Do springs have regions where Hooke's law applies, and other regions where it doesn't?\n",
    "\n",
    "Those are just things to think about as you design your experiments.\n",
    "\n",
    "***"
   ]
  },
  {
   "cell_type": "markdown",
   "id": "5a65bc66-24c7-44e8-8dc3-c4a6f2cb5dd0",
   "metadata": {},
   "source": [
    "### Experimental procedure:\n",
    "\n",
    "If we hang a mass from the spring, the force applied to the spring is $mg$.  Re-arranging Hooke's law to solve for displacement, we get:\n",
    "\n",
    "$$ mg = k \\Delta x $$\n",
    "\n",
    "Here we have dropped the negative sign, since it doesn't really matter which way the spring is moving.\n",
    "\n",
    "You should measure the extension of the spring from equilibrium for a number of different masses.  You will then make a plot of $m$ vs. $\\Delta x$, and fit your data with a straight line (details below).  The slope of your line will then be $k$.\n",
    "\n",
    "Some things to think about before starting your experiment:\n",
    "\n",
    "* How many data points do you need?  In theory you only need 2 points to define a line, but you should probably have more.\n",
    "\n",
    "* How many sets of measurements do you want?  With multiple sets of data, you can estimate the uncertainty of each point, plus see if there are any trends over time.\n",
    "\n",
    "* Does your spring constant change if the spring is being stretched vs. relaxed?\n",
    "\n",
    "For week one, you should spend time thinking about answers to the above questions. Then conduct a series of measurements, make a plot of mass vs. $\\Delta x$, and find the spring constant for your spring.\n",
    "\n",
    "In week two, you should find some stretchy objects around the house to bring in.  It could be a rubber band, a hair tie, or whatever you can find that will stretch.  Your group will perform a similar experiment to find the spring constant for your object, and to see if it obeys Hooke's law at all.  If your house is completely devoid of stretchy objects, we may have a few to measure.\n",
    "\n",
    "***"
   ]
  },
  {
   "cell_type": "markdown",
   "id": "cb713365-8546-4c70-a330-f0e27c58d333",
   "metadata": {},
   "source": [
    "#### Plotting and fitting data in Python\n",
    "\n",
    "Below are details on how to plot and fit data with a straight line in Python.  First, let's generate some fake data.  You can ignore this step, since you will have your own data to use."
   ]
  },
  {
   "cell_type": "code",
   "execution_count": 1,
   "id": "847ff215-3b01-4248-aad0-6e63955cdac9",
   "metadata": {},
   "outputs": [
    {
     "name": "stdout",
     "output_type": "stream",
     "text": [
      "[0 1 2 3 4 5 6 7 8 9]\n",
      "[ 1.62434536  1.88824359  4.47182825  6.42703138 10.86540763 10.1984613\n",
      " 16.74481176 16.7387931  20.3190391  22.25062962]\n"
     ]
    }
   ],
   "source": [
    "import numpy as np\n",
    "\n",
    "x = np.arange(0,10) # Don't worry too much about these lines, just generating fake data\n",
    "np.random.seed(1)\n",
    "y = 2.5*x + np.random.randn(10)\n",
    "\n",
    "print(x)\n",
    "print(y)"
   ]
  },
  {
   "cell_type": "markdown",
   "id": "75aefa05-560d-4fd7-ae8c-624c6724acc9",
   "metadata": {},
   "source": [
    "Here $x$ is an evenly spaced array from 0 to 9, and $y$ is defined by $y=2.5 x$, plus some random noise added in (since our data won't be perfect).\n",
    "\n",
    "To plot our data, we use a Python library called `matplotlib`, which is similar to Matlab in terms of commands.  There are other ways to make plots in Python, but this is the simplest."
   ]
  },
  {
   "cell_type": "code",
   "execution_count": 2,
   "id": "d6c3ac09-89fa-40c7-859b-4fe781b262a4",
   "metadata": {},
   "outputs": [
    {
     "data": {
      "image/png": "[encoded data removed]",
      "text/plain": [
       "<Figure size 432x288 with 1 Axes>"
      ]
     },
     "metadata": {
      "needs_background": "light"
     },
     "output_type": "display_data"
    }
   ],
   "source": [
    "import matplotlib.pyplot as plt\n",
    "\n",
    "plt.plot(x,y,'o')\n",
    "plt.show()"
   ]
  },
  {
   "cell_type": "markdown",
   "id": "7331950a-a45b-4e77-8bc7-b6f41236cd68",
   "metadata": {},
   "source": [
    "In the commands above, the `'o'` tells Python to use a dot for each point.  We can also add axis labels, and make their font sizes a little larger if we want."
   ]
  },
  {
   "cell_type": "code",
   "execution_count": 3,
   "id": "a15234ba-716e-4077-989d-c679eb9c1f77",
   "metadata": {},
   "outputs": [
    {
     "data": {
      "image/png": "[encoded data removed]",
      "text/plain": [
       "<Figure size 432x288 with 1 Axes>"
      ]
     },
     "metadata": {
      "needs_background": "light"
     },
     "output_type": "display_data"
    }
   ],
   "source": [
    "plt.plot(x,y,'o')\n",
    "plt.xlabel('x Distance (m)',size='large')\n",
    "plt.ylabel('y Distance (m)',size='large')\n",
    "plt.show()"
   ]
  },
  {
   "cell_type": "markdown",
   "id": "dcc49cc0-7baa-44ce-8233-4480087c9b08",
   "metadata": {},
   "source": [
    "To fit our data, we will use a function from `numpy` called `polyfit`.  This fits our data with a polynomial (whose degree we can specify), and then spits out the best fit parameters.  In this case, we expect our data to be a straight line, so we will fit it with a 1st order polynomial."
   ]
  },
  {
   "cell_type": "code",
   "execution_count": 4,
   "id": "75e82edc-6df0-4dfc-a082-f73ac48c7280",
   "metadata": {},
   "outputs": [
    {
     "name": "stdout",
     "output_type": "stream",
     "text": [
      "[2.4622627  0.07267695]\n"
     ]
    }
   ],
   "source": [
    "p = np.polyfit(x,y,1)  # The 1 here means first order\n",
    "print(p)"
   ]
  },
  {
   "cell_type": "markdown",
   "id": "61e625b8-9241-432e-931d-fb5a127949d6",
   "metadata": {},
   "source": [
    "Polyfit always returns the highest power of $x$ first, so that means our straight line equation is $y = 2.462 x +0.073$.\n",
    "\n",
    "Now we need to plot our best fit line on our graph.  `numpy` has another function called `poly1d` which creates a polynomial.  If we give `poly1d` the best-fit values from our fit above, and tell it to calculate values for that polynomial at our `x` values, we can then plot them."
   ]
  },
  {
   "cell_type": "code",
   "execution_count": 5,
   "id": "529ce4cf-8168-407b-99ad-1e446e031e1d",
   "metadata": {},
   "outputs": [
    {
     "name": "stdout",
     "output_type": "stream",
     "text": [
      " \n",
      "2.462 x + 0.07268\n"
     ]
    }
   ],
   "source": [
    "f = np.poly1d(p)\n",
    "print(f)"
   ]
  },
  {
   "cell_type": "markdown",
   "id": "96b9c331-2f01-4262-867b-0e3f9b659cb4",
   "metadata": {},
   "source": [
    "Note that `poly1d` will actually show us the equation from our fit.  If we want to evaluate that function at our values of $x$,"
   ]
  },
  {
   "cell_type": "code",
   "execution_count": 6,
   "id": "8d6ca512-d3ae-47a6-8063-9bd214670d51",
   "metadata": {},
   "outputs": [
    {
     "data": {
      "text/plain": [
       "array([ 0.07267695,  2.53493965,  4.99720235,  7.45946505,  9.92172776,\n",
       "       12.38399046, 14.84625316, 17.30851587, 19.77077857, 22.23304127])"
      ]
     },
     "execution_count": 6,
     "metadata": {},
     "output_type": "execute_result"
    }
   ],
   "source": [
    "f(x)"
   ]
  },
  {
   "cell_type": "markdown",
   "id": "e36c9a32-eaa2-4ccc-bc0f-0a9df7a432a8",
   "metadata": {},
   "source": [
    "Okay, now we are ready to plot our data points and the best-fit line.  For our fit, we can connect all of the data points with a straight line using a different symbol."
   ]
  },
  {
   "cell_type": "code",
   "execution_count": 7,
   "id": "fa1e5c90-be54-4fde-aefd-55c03230a303",
   "metadata": {},
   "outputs": [
    {
     "data": {
      "image/png": "[encoded data removed]",
      "text/plain": [
       "<Figure size 432x288 with 1 Axes>"
      ]
     },
     "metadata": {
      "needs_background": "light"
     },
     "output_type": "display_data"
    }
   ],
   "source": [
    "plt.plot(x,y,'o')\n",
    "plt.plot(x,f(x),'-')\n",
    "plt.xlabel('x Distance (m)',size='large')\n",
    "plt.ylabel('y Distance (m)',size='large')\n",
    "plt.show()"
   ]
  },
  {
   "cell_type": "markdown",
   "id": "5b7f2612-8443-44f1-a166-027b5a5315bc",
   "metadata": {},
   "source": [
    "Overall we can see the fit is not too bad.  So we can report that our data are well fit by a straight line, with a slope of $2.462$ and a y-intercept of $+0.07268$.\n",
    "\n",
    "***"
   ]
  },
  {
   "cell_type": "markdown",
   "id": "fa119b95-47b8-48d6-a977-e19cf27780c5",
   "metadata": {},
   "source": [
    "#### Other usefull skills:\n",
    "\n",
    "In earlier labs, you may have noticed that sometimes we use the command `np.array()` to convert a regular Python array to a numpy array.  What is the difference between the two?  Let's look at an example.\n",
    "\n",
    "First, let's define two simple arrays."
   ]
  },
  {
   "cell_type": "code",
   "execution_count": 8,
   "id": "1bcc3f94-4332-4449-9ae4-2308561f8f5d",
   "metadata": {},
   "outputs": [],
   "source": [
    "a=[1,2,3]\n",
    "b=[4,5,6]"
   ]
  },
  {
   "cell_type": "markdown",
   "id": "d7fff2cd-2abc-44d6-93c0-beec93dce1cc",
   "metadata": {},
   "source": [
    "If I try to multiply one array by a constant, the following happens:"
   ]
  },
  {
   "cell_type": "code",
   "execution_count": 9,
   "id": "8bfbc202-446d-4a8a-9991-2c4b1755fa87",
   "metadata": {},
   "outputs": [
    {
     "name": "stdout",
     "output_type": "stream",
     "text": [
      "[1, 2, 3, 1, 2, 3, 1, 2, 3]\n"
     ]
    }
   ],
   "source": [
    "print(a*3)"
   ]
  },
  {
   "cell_type": "markdown",
   "id": "6ec02789-0a84-450e-91a1-d993a60c3d85",
   "metadata": {},
   "source": [
    "If I try to add the arrays, I get:"
   ]
  },
  {
   "cell_type": "code",
   "execution_count": 10,
   "id": "103368a5-8c31-4210-9f9c-52d5818d4b0d",
   "metadata": {},
   "outputs": [
    {
     "name": "stdout",
     "output_type": "stream",
     "text": [
      "[1, 2, 3, 4, 5, 6]\n"
     ]
    }
   ],
   "source": [
    "print(a+b)"
   ]
  },
  {
   "cell_type": "markdown",
   "id": "fd1d0fe2-baf3-444e-81d1-df0ddf027e94",
   "metadata": {},
   "source": [
    "Most of the time, that's not what we want.  However if we convert our arrays to numpy arrays first....."
   ]
  },
  {
   "cell_type": "code",
   "execution_count": 11,
   "id": "369444d1-11a5-4b44-a288-0a65b38e7206",
   "metadata": {},
   "outputs": [
    {
     "name": "stdout",
     "output_type": "stream",
     "text": [
      "a times 3 =  [3 6 9]\n",
      "a plus 2 =  [3 4 5]\n",
      "a+b =  [5 7 9]\n"
     ]
    }
   ],
   "source": [
    "a = np.array(a)\n",
    "b = np.array(b)\n",
    "\n",
    "print('a times 3 = ',a*3)\n",
    "\n",
    "print ('a plus 2 = ',a+2)\n",
    "\n",
    "print('a+b = ', a+b)"
   ]
  },
  {
   "cell_type": "markdown",
   "id": "a2c2c8d6-a4ae-4ae5-b1ee-9b0e4ac30471",
   "metadata": {},
   "source": [
    "Here Python multiplies each element in list `a` by 3, and then adds the individual elements in `a` and `b`.  This can be useful if we want to multiply or divide all of the elements in an array by a constant, or if we want to add or subtract a value to each element in an array.  Note that if we are adding two arrays they must have the same length, or else Python will thrown an exception.\n",
    "\n",
    "***"
   ]
  },
  {
   "cell_type": "markdown",
   "id": "a08b04f2-c53d-43ea-8611-09bdcc65379c",
   "metadata": {},
   "source": [
    "When trying to see whether a particular model provides an adequate fit to data, one of the more useful tools is a plot of the residuals.  Simply stated, the residuals are the value of the measured data at each point, minus the value of the model at that point.  We can easily make a plot like so:"
   ]
  },
  {
   "cell_type": "code",
   "execution_count": 12,
   "id": "0023c3ee-9ec0-4cfa-95e9-70908cb88a5c",
   "metadata": {},
   "outputs": [
    {
     "data": {
      "image/png": "[encoded data removed]",
      "text/plain": [
       "<Figure size 432x288 with 1 Axes>"
      ]
     },
     "metadata": {
      "needs_background": "light"
     },
     "output_type": "display_data"
    }
   ],
   "source": [
    "plt.plot(x,y-f(x),'o')\n",
    "plt.xlabel('x Distance (m)',size='large')\n",
    "plt.ylabel('Residuals',size='large')\n",
    "plt.show()"
   ]
  },
  {
   "cell_type": "markdown",
   "id": "5a8e051e-1dfa-416f-ac3b-de4244a1f0e3",
   "metadata": {},
   "source": [
    "If our model is a good fit, we should notice two things.  First, the residuals should be randomly scattered around zero.  We should not see a pattern where the residuals are systematically above zero, then below zero, etc. for different parts of the data.  Here is a plot of data where the residuals show the model is a poor fit:"
   ]
  },
  {
   "cell_type": "code",
   "execution_count": 13,
   "id": "93c38abd-3b19-459a-b6e0-f647a016c3c9",
   "metadata": {
    "tags": []
   },
   "outputs": [
    {
     "data": {
      "image/png": "[encoded data removed]",
      "text/plain": [
       "<Figure size 432x288 with 1 Axes>"
      ]
     },
     "metadata": {
      "needs_background": "light"
     },
     "output_type": "display_data"
    }
   ],
   "source": [
    "y2 = 2.5 * x + 0.2*x**2 + 0.5*np.random.randn(10)\n",
    "q = np.polyfit(x,y2,1)\n",
    "g = np.poly1d(q)\n",
    "plt.plot(x,y2,'o')\n",
    "plt.plot(x,g(x),'-')\n",
    "plt.xlabel('x Distance (m)',size='large')\n",
    "plt.ylabel('y Distance (m)',size='large')\n",
    "plt.title('Data w/ a mild quadratic component')\n",
    "plt.show()"
   ]
  },
  {
   "cell_type": "code",
   "execution_count": 14,
   "id": "b0cbf8e9-3d03-4c44-a3a2-f40bb3f22ee2",
   "metadata": {},
   "outputs": [
    {
     "data": {
      "image/png": "[encoded data removed]",
      "text/plain": [
       "<Figure size 432x288 with 1 Axes>"
      ]
     },
     "metadata": {
      "needs_background": "light"
     },
     "output_type": "display_data"
    }
   ],
   "source": [
    "plt.plot(x,g(x)-y2,'o')\n",
    "plt.ylabel('Residuals',size='large')\n",
    "plt.title('Residuals plot',size='large')\n",
    "plt.show()"
   ]
  },
  {
   "cell_type": "markdown",
   "id": "d74c35a1-2ceb-40a1-82fa-828838d1ddf0",
   "metadata": {},
   "source": [
    "In the function above, I added a slight quadratic component to the original function.  While a linear trendline still looks like a good fit, you can see the residuals start out below zero, then trend above zero for a few points, then drop back below zero.  This indicates a linear fit may be the wrong choice."
   ]
  },
  {
   "cell_type": "markdown",
   "id": "004f61f5-9e0d-41a1-8adf-a3f1119858fe",
   "metadata": {},
   "source": [
    "***\n",
    "\n",
    "### To be submitted with your lab report:\n",
    "\n",
    "* Header w/ the usual info\n",
    "\n",
    "* Explanation of how you gathered data for your spring, why you chose the number of data points that you did, the range of masses you chose, etc.\n",
    "\n",
    "* Plot of $F$ vs. $\\Delta x$ w/ trendline, and your best estimate of the spring constant\n",
    "\n",
    "* Any additional investigations you carried out, regarding multiple measurements, stretching vs. relaxing, limits to Hooke's law, etc.\n",
    "\n",
    "* Data and plots for any additional \"stretchy\" objects you have\n",
    "\n",
    "* Residuals plot and discussion of whether Hooke's law is a good fit for your objects"
   ]
  },
  {
   "cell_type": "code",
   "execution_count": null,
   "id": "b5c9f3e3-6357-4699-a6f1-473553dcf815",
   "metadata": {},
   "outputs": [],
   "source": []
  }
 ],
 "metadata": {
  "kernelspec": {
   "display_name": "Python 3",
   "language": "python",
   "name": "python3"
  },
  "language_info": {
   "codemirror_mode": {
    "name": "ipython",
    "version": 3
   },
   "file_extension": ".py",
   "mimetype": "text/x-python",
   "name": "python",
   "nbconvert_exporter": "python",
   "pygments_lexer": "ipython3",
   "version": "3.8.8"
  }
 },
 "nbformat": 4,
 "nbformat_minor": 5
}
