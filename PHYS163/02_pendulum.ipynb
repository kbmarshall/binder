{
 "cells": [
  {
   "cell_type": "markdown",
   "id": "59243111-a1a1-4b22-916c-a5e5a8bfc891",
   "metadata": {},
   "source": [
    "# PHYS 163 - Physics I Lab\n",
    "\n",
    "## Lab 2 - The Not-So-Simple Pendulum\n",
    "\n",
    "***\n",
    "\n",
    "### Comparing two different values\n",
    "\n",
    "Most of the measurements in this class have an uncertainty associated with them.  The uncertainty will often come from the standard deviation of the measurements made.  If we have two different measurements, how can we tell if they agree with each other?\n",
    "\n",
    "Let's say we have one measurement with an average value of $x_{\\rm A} \\pm \\sigma_{\\rm A}$ and another measurement $x_{\\rm B} \\pm \\sigma_{\\rm B}$.  Each measurement, when combined with its uncertainty, will give us a *range* over which that measurement could possibly be correct.\n",
    "\n",
    "For example, let's say our measurement is $8 \\pm 2$.  We are saying the value could lie anywhere between 6 and 10, but most likely is 8.  However there's also a small probability it could be less than 6, or greater than 10.\n",
    "\n",
    "To get a more precise idea of whether two values agree or not, we can calculate what's called a $t^{\\prime}$ (t-prime) value.  This compares the difference between two numbers with the standard deviation of each.  Mathematically, it is given by:\n",
    "\n",
    "$$t^{\\prime} = \\frac{|x_{\\rm A} - x_{\\rm B}|}{\\sqrt{\\sigma_{\\rm A}^2 + \\sigma_{\\rm B}^2}}$$\n",
    "\n",
    "As before, $x_{\\rm A,B}$ are the averages of the individual measurements and $\\sigma_{\\rm A,B}$ are their standard deviations.\n",
    "\n",
    "Depending on the value of $t^{\\prime}$, we can infer the following:\n",
    "\n",
    "* If $t^{\\prime} < 1$, we can say the values are in agreement *or* our uncertainties are too large, and we need to do a better job of reducing our uncertainties.\n",
    "\n",
    "* If $t^{\\prime} > 3$, the values are almost certainly different.  There is less than a 1% chance the values are consistent with each other, and so it's pretty safe to say they are not the same.\n",
    "\n",
    "* If $1 < t^{\\prime} < 3$, the situation isn't quite as clear.  You can try and do a better job at reducing your uncertainties, but if you can't then you can only say the values are *most likely* different, but without the high level of certainty that scientists look for.  (Science in general isn't always black and white!)\n",
    "\n",
    "***\n"
   ]
  },
  {
   "cell_type": "markdown",
   "id": "80d52024-7d76-4c4b-a4e1-486c1c9c33d1",
   "metadata": {},
   "source": [
    "### Measurements for this week:\n",
    "\n",
    "In this part of the lab, we will compare the period of a pendulum starting at initial angles of $5^{\\circ}$ and $15^{\\circ}$.  Last week you (hopefully) figured out how to find the angle of a pendulum without using a protractor or otherwise measuring the angle directly.\n",
    "\n",
    "* Begin by measuring the period 20 times for each initial angle.  That is, make 20 individual measurements of 1 full oscillation for each angle.  You should have two data sets w/ 20 measurements each.\n",
    "\n",
    "* Calculate the mean and standard deviation for each data set, similar to last week's lab (you can use `np.std()` to find the standard deviation if you wish.\n",
    "\n",
    "* Compare your values using the $t^{\\prime}$ statistic.  Do your results for the period agree with each other?\n",
    "\n",
    "* Think of a way that you could improve your measurements and reduce your overall uncertainty.  You can discuss your plan with another lab group, or if you're really stuck you can talk with your lab instructor.  The end goal is to reduce the uncertainty in your measurements to $< 0.01$ seconds, which should be enough to show a difference in the period (if there is any).\n",
    "\n",
    "* Carry out your plan to find a more precise value of the period.  If your group members have different ideas, try each one out with a quick test and see if it reduces the overall uncertainty.  If not, try something else.\n",
    "\n",
    "* Once again, compare your values using the $t^{\\prime}$ statistic.  Do your values agree with each other?\n",
    "\n",
    "* The theoretical period for a pendulum is given by $T = 2\\pi \\sqrt{\\frac{L}{g}}$, where $L$ is the length of a pendulum.  Does this value fall within the range given by either of your period measurements?\n",
    "\n",
    "***\n",
    "\n",
    "### To be submitted with your lab report:\n",
    "\n",
    "* The usual header w/ name, lab title, etc.\n",
    "\n",
    "* Your initial measurements for the $5^{\\circ}$ and $15^{\\circ}$ period, including the mean and standard deviation of each\n",
    "\n",
    "* Discussion of whether your initial values agree with each other, using the $t^{\\prime}$ statistic\n",
    "\n",
    "* Your plan for improving the accuracy of your measurements, and how you carried it out\n",
    "\n",
    "* Data from your new and improved measurements\n",
    "\n",
    "* Calculation of $t^{\\prime}$ for your new and improved measurements, and whether your values agree with each other\n",
    "\n",
    "* Discussion of whether your values agree with the theoretical period for a pendulum"
   ]
  },
  {
   "cell_type": "markdown",
   "id": "9b5784f9-f0aa-443b-bb99-c92ed2186f18",
   "metadata": {},
   "source": [
    "***\n",
    "\n",
    "#### Some Python Tips:\n",
    "\n",
    "* While markdown text can be used for longer descriptions of what you are doing, you can also use the # symbol to put comments directly in your code.  This is nice for short comments about what you are doing, and is generally considered a good programming practice.  For example:"
   ]
  },
  {
   "cell_type": "code",
   "execution_count": 1,
   "id": "cfcdf1a6-abe0-4680-b072-e4574d249c99",
   "metadata": {},
   "outputs": [],
   "source": [
    "x = [1,2,3]   # initial distance in meters\n",
    "t = [0.12, 0.34, 0.45]   # time in seconds"
   ]
  },
  {
   "cell_type": "markdown",
   "id": "c668e212-8a44-4745-a130-5f21aa947607",
   "metadata": {},
   "source": [
    "* Many errors arise from evaluating an individual cell, which may depend on values or libraries from cells above it.  It's usually a good idea just to re-run your whole notebook when running code.  You can do this by using the double-arrow at the top, or by going to Run $\\rightarrow$ Restart Kernel and Run All Cells in the menu bar.\n",
    "\n",
    "* The value of pi is `np.pi`, assuming you have imported the numpy library as `np`.\n",
    "\n",
    "* The absolute value of a value is given by np.abs(x), assuming you have imported the numpy library as `np` and `x` is the quantity whose absolute value you want.\n",
    "\n",
    "* Exponents in python are designated using a double-asterisk, for example:"
   ]
  },
  {
   "cell_type": "code",
   "execution_count": 2,
   "id": "7b758f08-4635-465e-aebf-dc4a5a85ed27",
   "metadata": {},
   "outputs": [
    {
     "data": {
      "text/plain": [
       "256"
      ]
     },
     "execution_count": 2,
     "metadata": {},
     "output_type": "execute_result"
    }
   ],
   "source": [
    "2**8  # 2 to the 8th power"
   ]
  },
  {
   "cell_type": "code",
   "execution_count": 3,
   "id": "1da22ce8-24b2-4dea-85b6-cb15e900b264",
   "metadata": {},
   "outputs": [
    {
     "data": {
      "text/plain": [
       "1.7320508075688772"
      ]
     },
     "execution_count": 3,
     "metadata": {},
     "output_type": "execute_result"
    }
   ],
   "source": [
    "3**0.5  # square root of 3"
   ]
  }
 ],
 "metadata": {
  "kernelspec": {
   "display_name": "Python 3",
   "language": "python",
   "name": "python3"
  },
  "language_info": {
   "codemirror_mode": {
    "name": "ipython",
    "version": 3
   },
   "file_extension": ".py",
   "mimetype": "text/x-python",
   "name": "python",
   "nbconvert_exporter": "python",
   "pygments_lexer": "ipython3",
   "version": "3.8.8"
  }
 },
 "nbformat": 4,
 "nbformat_minor": 5
}
