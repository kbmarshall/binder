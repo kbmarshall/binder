{
 "cells": [
  {
   "cell_type": "markdown",
   "id": "46ad6a5b-d6fd-4a32-91c4-20b5603cd386",
   "metadata": {},
   "source": [
    "## Lab 5 - Revenge of the Pendulum\n",
    "### PHYS 163\n",
    "***"
   ]
  },
  {
   "cell_type": "markdown",
   "id": "4d5a0792-dc2a-4fc9-8139-9e2229dd4285",
   "metadata": {},
   "source": [
    "In a previous lab, we measured the force applied to a spring, along with its extension.  Making a plot of $F$ vs. $\\Delta x$, we fit the data with a straight line, which represented the spring constant $k$.\n",
    "\n",
    "But how can we be sure that the data are best fit by a linear function?  What if we want to fit our data with any function?  And besides plotting the residuals, can we get a numerical value that describes the goodness of fit?  And what about uncertainties on our fit parameters?\n",
    "\n",
    "In this lab, we will answer all of those questions."
   ]
  },
  {
   "cell_type": "markdown",
   "id": "d8d21b7d-97fe-4df8-906f-601f0600298f",
   "metadata": {},
   "source": [
    "### Data Collection\n",
    "\n",
    "We will once again be using the pendulum, with a small mass attached to one end.\n",
    "\n",
    "* With the pendulum hanging straight down, place one end of the meter stick on the floor directly under the pendulum.  Adjust the pendulum's height so that it just clears the meter stick when swinging.\n",
    "\n",
    "* Pull the pendulum back to an amplitude of 70 cm, as measured on the meter stick.  Release it.\n",
    "\n",
    "* When the amplitude decreases to 60 cm, begin recording the amplitude for *every other swing* until you get a total of 10 data points.\n",
    "\n",
    "* You should also record the uncertainty for each measurement.  The uncertainty will depend on your ability to accurately read the meter stick while the pendulum is swinging, and thus will be much larger than 0.1 cm.  Note that the uncertainty does not need to be the same for each data point!  As the amplitude decreases, the pendulum moves more slowly and therefore your measurements may become more accurate.\n",
    "\n",
    "***"
   ]
  },
  {
   "cell_type": "markdown",
   "id": "6a436d9a-75ad-42c0-a032-96103735c638",
   "metadata": {},
   "source": [
    "### Data Analysis\n",
    "\n",
    "* Make a plot of amplitude vs. swing number for your data.  To generate a plot with error bars, we can use the following method:"
   ]
  },
  {
   "cell_type": "code",
   "execution_count": 1,
   "id": "d01f271a-8511-448a-898d-5f1ab08a253f",
   "metadata": {},
   "outputs": [
    {
     "data": {
      "image/png": "[encoded data removed]",
      "text/plain": [
       "<Figure size 432x288 with 1 Axes>"
      ]
     },
     "metadata": {
      "needs_background": "light"
     },
     "output_type": "display_data"
    }
   ],
   "source": [
    "import numpy as np\n",
    "import matplotlib.pyplot as plt\n",
    "\n",
    "# The next 4 lines generate fake data.  You will use your actual data here.\n",
    "# deltay is an array that contains the uncertainties for each data point.\n",
    "np.random.seed(1)\n",
    "x = np.arange(10)\n",
    "y = 25. * np.exp(-0.13*x) + 0.5*np.random.randn(10)\n",
    "deltay = np.random.randn(10)\n",
    "\n",
    "# Now make a plot with error bars\n",
    "plt.errorbar(x,y,yerr=deltay,fmt='o')\n",
    "plt.xlabel('X values',fontsize='large')\n",
    "plt.ylabel('Y values',fontsize='large')\n",
    "plt.show()"
   ]
  },
  {
   "cell_type": "markdown",
   "id": "400d26cb-f00d-46d4-9feb-1a25c7dd4206",
   "metadata": {},
   "source": [
    "* Fit your data with a straight line, as we did in the Hooke's Law lab.  Just examining your data by eye, do they appear to be well fit by a straight line?  Does the best-fit line pass through all of the points w/ error bars?\n",
    "\n",
    "* Make a plot of the residuals, as we did in the Hooke's Law lab.  Do you see any systematic trends with the residuals, or are they randomly scattered around zero?  How does the size of the residuals compare to the size of your uncertainties?"
   ]
  },
  {
   "cell_type": "markdown",
   "id": "791355d0-c47d-4299-bc19-729db59a2a93",
   "metadata": {},
   "source": [
    "Given the above, how can we judge more precisely whether the data are best fit by a straight line?  We can calculate what's called the chi-square ($\\chi^2$) statistic, which measures the average deviation of the data from a given function.\n",
    "\n",
    "To calculate $\\chi^2$, we can use the following equation:\n",
    "\n",
    "$$ \\chi^2 = \\frac{1}{N} \\Sigma \\frac{(O_{\\rm i} - E_{\\rm i})^2}{\\sigma_i^2} $$\n",
    "\n",
    "Here $E_{\\rm i}$ are the expected values (from our best-fit model), $O_{\\rm i}$ are the observed values, $\\sigma_i$ are the uncertainties on each of the observed data points, and $N$ is the total number of data points.  Essentially we are calculating how far away each data point is from the model, then squaring it (because we don't care about whether it's above or below the best fit line).  Then we divide by the uncertainty squared, and add them all up.  Don't forget that if you have a `numpy` array (let's call it `a`) you can add up all the elements using `a.sum()`\n",
    "\n",
    "* Calculate the $\\chi^2$ value for your straight line fit.  If our fit is good, $\\chi^2$ should be approximately 1.  Values significantly larger than 1 indicate a poor fit, and we may need a better model.  Values smaller than 1 indicate that either our uncertainties are too large, or our model may have too many parameters.  We will compare $\\chi^2$ for a linear fit with an exponential function below.\n",
    "\n",
    "***"
   ]
  },
  {
   "cell_type": "markdown",
   "id": "e0a422a5-fe5b-4ec3-9e7e-0f7971c590dd",
   "metadata": {},
   "source": [
    "#### Fitting an arbitrary function\n",
    "\n",
    "If a straight line isn't a good fit, how can we fit another function?  To do that we use a module from the `scipy` library, which contains many scientific and mathematical functions.\n",
    "\n",
    "There are two parts:  first, we must define a function which represents the mathematical function we are trying to fit.  Then, we run `scipy.optimize.curve_fit` to fit our data.\n",
    "\n",
    "Let's try using an exponential function on our data above. It probably won't fit very well, but that's ok."
   ]
  },
  {
   "cell_type": "code",
   "execution_count": 2,
   "id": "cca28f84-9758-4443-ab29-f343f4cf6fe6",
   "metadata": {},
   "outputs": [],
   "source": [
    "from scipy.optimize import curve_fit\n",
    "\n",
    "def f(x,a,b,c):\n",
    "    return a * np.exp(-b*x) + c\n",
    "\n",
    "popt, pcov = curve_fit(f,x,y)"
   ]
  },
  {
   "cell_type": "markdown",
   "id": "cd53bb08-d26f-4e94-ac21-3aba0210bc3d",
   "metadata": {},
   "source": [
    "Above, the function `f` takes a value (or array) `x` as input, and returns $a e^{-bx}+c$.\n",
    "\n",
    "After `curve_fit` runs, it returns two things:  the array `popt` which contains the best-fit parameters, and `pcov` which contains the covariance matrix.  We won't get into the details of the covariance matrix, but later we'll use it to get the uncertainties on our fit parameters.\n",
    "\n",
    "First, let's take a look at the fit parameters:"
   ]
  },
  {
   "cell_type": "code",
   "execution_count": 3,
   "id": "9d4667ec-837f-4ba3-8b00-42769e3dbf99",
   "metadata": {},
   "outputs": [
    {
     "data": {
      "text/plain": [
       "array([22.82245691,  0.16266442,  2.6564157 ])"
      ]
     },
     "execution_count": 3,
     "metadata": {},
     "output_type": "execute_result"
    }
   ],
   "source": [
    "popt"
   ]
  },
  {
   "cell_type": "markdown",
   "id": "53194b89-301e-4f23-8b6a-0b419db8f872",
   "metadata": {},
   "source": [
    "The parameters are in the same order as our function.  So the first value represents `a`, the second value is `b`, and the third value is `c`.\n",
    "\n",
    "**Note:** if `curve_fit` returns an error, it might not be able to fit your data.  In that case, we can help it out by placing bounds on the best-fit parameters."
   ]
  },
  {
   "cell_type": "code",
   "execution_count": 4,
   "id": "b279f240-b73f-4903-8b95-5cf43ff2bd5e",
   "metadata": {},
   "outputs": [],
   "source": [
    "popt, pcov = curve_fit(f,x,y,bounds=(0,[30.,1.,10.]))"
   ]
  },
  {
   "cell_type": "markdown",
   "id": "494c1a00-7567-41d9-a301-4f2cfb7d28b2",
   "metadata": {},
   "source": [
    "Here, we place boundaries that limit $0 < a < 30$, $0 < b < 1$, and $0 < c < 10$.  These values can be inferred based on our plot.\n",
    "\n",
    "Let's make a new plot based on our best-fit parameters:"
   ]
  },
  {
   "cell_type": "code",
   "execution_count": 5,
   "id": "2500130a-6fed-4492-a4f3-844c1fadd9e6",
   "metadata": {},
   "outputs": [
    {
     "data": {
      "image/png": "[encoded data removed]",
      "text/plain": [
       "<Figure size 432x288 with 1 Axes>"
      ]
     },
     "metadata": {
      "needs_background": "light"
     },
     "output_type": "display_data"
    }
   ],
   "source": [
    "plt.errorbar(x,y,yerr=deltay,fmt='o')\n",
    "plt.plot(x,f(x,*popt),'-')\n",
    "plt.show()"
   ]
  },
  {
   "cell_type": "markdown",
   "id": "bd33e155-cee1-4464-b492-c5f736039410",
   "metadata": {},
   "source": [
    "In the command to plot our trendline, we took the original function `f` and fed it our best-fit parameters `popt`.  Because `popt` contains more than one value, we need to place an asterisk in front:  `*popt`"
   ]
  },
  {
   "cell_type": "markdown",
   "id": "ca595166-4696-4943-9e2c-ba4f2b0a250e",
   "metadata": {},
   "source": [
    "What about the uncertainties on our fit parameters?  Let's take a look at the `pcov` object that gets returned:"
   ]
  },
  {
   "cell_type": "code",
   "execution_count": 6,
   "id": "07ab3ad6-562a-4ca4-8493-02373edb21d8",
   "metadata": {},
   "outputs": [
    {
     "data": {
      "text/plain": [
       "array([[ 4.36116829e+00, -5.98081616e-02, -4.68192475e+00],\n",
       "       [-5.98081616e-02,  9.82672043e-04,  7.05854669e-02],\n",
       "       [-4.68192475e+00,  7.05854669e-02,  5.31977988e+00]])"
      ]
     },
     "execution_count": 6,
     "metadata": {},
     "output_type": "execute_result"
    }
   ],
   "source": [
    "pcov"
   ]
  },
  {
   "cell_type": "markdown",
   "id": "c7aac96a-1499-4658-96b4-b58750b01187",
   "metadata": {},
   "source": [
    "This is what's known as the covariance matrix, and it tells us how much one parameter depends on another.  Taking the diagonal of this matrix gives us the variance of each paramter individually, and then taking the square root gives us the uncertainty."
   ]
  },
  {
   "cell_type": "code",
   "execution_count": 7,
   "id": "7804828e-e349-4f60-aa14-aa0cdc3ab546",
   "metadata": {},
   "outputs": [
    {
     "data": {
      "text/plain": [
       "array([2.08834104, 0.0313476 , 2.3064648 ])"
      ]
     },
     "execution_count": 7,
     "metadata": {},
     "output_type": "execute_result"
    }
   ],
   "source": [
    "np.sqrt(np.diag(pcov))"
   ]
  },
  {
   "cell_type": "markdown",
   "id": "2dec7405-b4ce-44f5-98b8-9e8a7c8d7e1f",
   "metadata": {},
   "source": [
    "Let's remind ourselves of what the best-fit parameters were:"
   ]
  },
  {
   "cell_type": "code",
   "execution_count": 8,
   "id": "ed15de63-7910-4926-aa09-43e712de4f6f",
   "metadata": {},
   "outputs": [
    {
     "data": {
      "text/plain": [
       "array([22.82246071,  0.16266435,  2.65641123])"
      ]
     },
     "execution_count": 8,
     "metadata": {},
     "output_type": "execute_result"
    }
   ],
   "source": [
    "popt"
   ]
  },
  {
   "cell_type": "markdown",
   "id": "5e6c2181-1ea6-4ed7-bf16-ec008788e723",
   "metadata": {},
   "source": [
    "So our exponential function would have a coefficient of $a=23 \\pm 2$, an exponent of $b=0.16 \\pm 0.03$, and an offset of $c = 3 \\pm 2$ (rounding to the proper significant figures)."
   ]
  },
  {
   "cell_type": "markdown",
   "id": "ea45407c-8b00-4b28-89df-97c32d66e4aa",
   "metadata": {},
   "source": [
    "Ok, back to your data:\n",
    "\n",
    "* Fit your data with an exponential function, similar to above.\n",
    "\n",
    "* Make a plot of your data points with the exponential trendline.\n",
    "\n",
    "* Make a plot of the residuals.  How do they compare with the residuals from a linear fit?  Are the residuals smaller than the measurement uncertainties?  Are there any systematic trends?\n",
    "\n",
    "* Calculate the $\\chi^2$ value for your data, based on an exponential fit.  Is the $\\chi^2$ value lower than the linear trendline?\n",
    "\n",
    "***"
   ]
  },
  {
   "cell_type": "markdown",
   "id": "325f8256-45ce-4d24-8705-7de9b7001a11",
   "metadata": {},
   "source": [
    "#### To be submitted with your lab report:\n",
    "\n",
    "* Data (w/ uncertainties) for the pendulum\n",
    "\n",
    "For **both** the linear fit and the exponential fit you should include:\n",
    "\n",
    "* Plot of the data (w/ error bars) and the best-fit trendline\n",
    "\n",
    "* Residuals plot\n",
    "\n",
    "* Calculation of $\\chi^2$\n",
    "\n",
    "* Discussion of which function provides a better fit"
   ]
  }
 ],
 "metadata": {
  "kernelspec": {
   "display_name": "Python 3",
   "language": "python",
   "name": "python3"
  },
  "language_info": {
   "codemirror_mode": {
    "name": "ipython",
    "version": 3
   },
   "file_extension": ".py",
   "mimetype": "text/x-python",
   "name": "python",
   "nbconvert_exporter": "python",
   "pygments_lexer": "ipython3",
   "version": "3.8.8"
  }
 },
 "nbformat": 4,
 "nbformat_minor": 5
}
