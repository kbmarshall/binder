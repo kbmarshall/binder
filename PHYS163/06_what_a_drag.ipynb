{
 "cells": [
  {
   "cell_type": "markdown",
   "id": "b1ce7d3e-3a0c-4735-94ef-ddbe2b3d523f",
   "metadata": {},
   "source": [
    "## Lab #6 - What A Drag\n",
    "\n",
    "### PHYS 163\n",
    "\n",
    "***"
   ]
  },
  {
   "cell_type": "markdown",
   "id": "014e5814-edf5-4f9a-882a-f46d01c7dfa0",
   "metadata": {},
   "source": [
    "In this lab we will look at the force of drag (air resistance), both experimentally using a motion sensor, and by creating a numerical simulation based on your data.\n",
    "\n",
    "In general, drag forces are those which depend on velocity.  For objects moving at very slow speeds the drag force depends on the velocity, and mainly comes from friction between air (or water) and the object as it moves.  For faster moving objects (such as the ones you will measure in lab), the drag force is proportional to velocity squared.  This is because as the object moves faster it encounters more air molecules, and as those molecules bounce off the object their momentum changes by a larger amount.  Hence two factors of $v$.\n",
    "\n",
    "If we look at objects in free-fall, we can write the net force as:\n",
    "\n",
    "$$ F_{\\rm net} = mg - bv^2 $$\n",
    "\n",
    "Here we take the down direction to be positive, and similar to friction, the drag force always acts opposite to velocity.  $b$ is called the drag coefficient and depends on the shape and size of the object, the density of air, and a few other variables.\n",
    "\n",
    "As the object falls faster and faster, eventually the drag force will equal the objects weight, and the object will stop accelerating as the net force is zero.  This speed is called terminal velocity, and can be found by setting the net force above equal to zero.\n",
    "\n",
    "$$ v_{\\rm term} = \\sqrt{\\frac{mg}{b}} $$\n",
    "\n",
    "In this lab we will do two things: first, we will measure position and velocity for a falling object.  From the data we will estimate the object's coefficient of drag.  Then, we will model the object's motion numerically and compare the results to your actual data.\n",
    "\n",
    "***"
   ]
  },
  {
   "cell_type": "markdown",
   "id": "c355ddc4-7692-432b-abe8-4b41e26ad745",
   "metadata": {},
   "source": [
    "### Data Collection\n",
    "\n",
    "Please be forewarned that this portion of the lab requires some patience.  It can often take several trials to get good data.  If you aren't sure, ask your lab instructor if your results are worth saving.\n",
    "\n",
    "The motion detector should be mounted on a lab stand and aimed at the floor.  Please keep the area underneath it clear, so don't place any lab stools, bags, etc. there.\n",
    "\n",
    "* Open the Capstone file provided by your lab instructor (you may need to download it from Canvas first).\n",
    "\n",
    "* To connect the motion sensor, click on the \"Hardware Setup\" icon on the left side of the window.\n",
    "\n",
    "* Press the small black power button on the side of the motion sensor.  A red LED on the sensor should begin blinking.\n",
    "\n",
    "* Look for your sensor in the Capstone hardware list.  Each sensor has a unique 6-digit ID number printed on the side, so make sure you connect to the right sensor (and not your neighbor's).  Once your sensor is connected, you may close the hardware list by clicking on the icon again.\n",
    "\n",
    "* At the bottom of the Capstone window, make sure the sample rate is set to 40 Hz.  You may also wish to zero the sensor by placing your hand over it, and clicking on the small icon just to the right of the sample rate setting.\n",
    "\n",
    "* For good results, you need to make sure your object is directly underneath the motion sensor, and there are no other objects interfering.  Without placing anything under the sensor, click on \"Record\" to begin taking data.  You should hear the sensor clicking as it sends out ultrasonic pulses to measure the range.\n",
    "\n",
    "* Click on stop after a second or two.  Examine the graph of distance vs time.  What is the sensor measuring the distance to?  Does that distance seem reasonable?\n",
    "\n",
    "* Click on \"Delete Last Run\" at the bottom of the window to remove your data.  It's best to keep your graphs from getting cluttered until you have good quality data.\n",
    "\n",
    "* Hold your object under the beam, and move it slowly up and down while collecting data.  You should see the position and velocity smoothly change.  If not, perhaps you are holding it out of the beam, or starting with the object too close.  Play around until you get a good feel for how the sensor works.\n",
    "\n",
    "* Once you are ready, take data while releasing the object from rest.  You will need to experiment with different techniques to ensure the object starts falling from rest, and you do not interfere with the beam as it falls, without the object moving out of the beam.  As stated before, it may take many attempts before you get a nice curve of velocity vs. time.  It's ok if your data are poor after the object hits the floor, but you should have **smooth curves** for both position and velocity as the object falls.\n",
    "\n",
    "* When you finally have good data, make sure to show your instructor before moving on.\n",
    "\n",
    "* Save your data by going to the File menu and choosing Export.  Save your data as a CSV file.  You can uncheck the columsn for acceleration, we will not be using those values.  Make sure to note the time values where you dropped the object, and the time value when it hit the floor.  You will need these later.\n",
    "\n",
    "***"
   ]
  },
  {
   "cell_type": "markdown",
   "id": "2c512d32-87ed-4960-a705-5d6163a4b54e",
   "metadata": {},
   "source": [
    "### Analysis of Your Measurements\n",
    "\n",
    "We will be analyzing your data in JupyterLab, as usual.\n",
    "\n",
    "* Upload your CSV file to JupyterLab by clicking on the \"up arrow\" above the file list.  It should appear in the file list.\n",
    "\n",
    "To import and organize your data, we will be using a Python library called pandas.  Pandas is incredibly powerful, and allows you to import, manipulate, clean, sort, and reshape data with ease.  Its capabilities extend far beyond what we will use here.\n",
    "\n",
    "Let's say your data file is called `drag.csv`, located in a folder called `data`.  To import your file:"
   ]
  },
  {
   "cell_type": "code",
   "execution_count": 1,
   "id": "c50c6d16-3f18-43a7-af53-668f3237c0cf",
   "metadata": {},
   "outputs": [],
   "source": [
    "from pandas import read_csv\n",
    "\n",
    "df = read_csv('data/drag.csv',header=0,names=['t','x','v'])"
   ]
  },
  {
   "cell_type": "markdown",
   "id": "f258f827-c096-43b7-836e-4007603e11a6",
   "metadata": {},
   "source": [
    "Your CSV file will probably be located in the same directory as your notebook, so you won't need the `data/` part.  This loads your data into a pandas dataframe (`df`).  The `header=0` command tells pandas to ignore the first line of the file, since it's a header which contains column names.  The `names=[...]` option tells pandas to use column names of `t`, `x`, and `v` instead of the Capstone-generated column names of `Position (m) Run #1` or whatever it gives you by default.\n",
    "\n",
    "Let's take a look at the data:"
   ]
  },
  {
   "cell_type": "code",
   "execution_count": 2,
   "id": "e2215bf2-993b-4de6-a02b-4789eab4d63d",
   "metadata": {},
   "outputs": [
    {
     "name": "stdout",
     "output_type": "stream",
     "text": [
      "         t     x     v\n",
      "0    0.000  0.08   NaN\n",
      "1    0.025  0.08  0.00\n",
      "2    0.050  0.08  0.00\n",
      "3    0.075  0.08  0.00\n",
      "4    0.100  0.08  0.01\n",
      "..     ...   ...   ...\n",
      "193  4.825  1.04 -1.03\n",
      "194  4.850  1.02  0.50\n",
      "195  4.875  1.11  0.52\n",
      "196  4.900  1.04 -0.24\n",
      "197  4.925  1.10   NaN\n",
      "\n",
      "[198 rows x 3 columns]\n"
     ]
    }
   ],
   "source": [
    "print(df)"
   ]
  },
  {
   "cell_type": "markdown",
   "id": "c5c4d49f-2dd5-4cc6-b5ae-f7cdb6a0acd5",
   "metadata": {},
   "source": [
    "You can see our data are neatly arranged into 3 columns, and pandas shows us the first 5 and last 5 rows.  You'll notice some of the values read `NaN` (not a number).  This is because Capstone gets the velocity by averaging several data points for position.  This means at the beginning and end of the file, there are no values for velocity.  We don't want to include those in our analysis, so we can exclude them with another command:"
   ]
  },
  {
   "cell_type": "code",
   "execution_count": 3,
   "id": "56126ddb-2690-4cb2-90be-1201def8b130",
   "metadata": {},
   "outputs": [
    {
     "name": "stdout",
     "output_type": "stream",
     "text": [
      "         t     x     v\n",
      "1    0.025  0.08  0.00\n",
      "2    0.050  0.08  0.00\n",
      "3    0.075  0.08  0.00\n",
      "4    0.100  0.08  0.01\n",
      "5    0.125  0.08  0.01\n",
      "..     ...   ...   ...\n",
      "192  4.800  1.04 -5.90\n",
      "193  4.825  1.04 -1.03\n",
      "194  4.850  1.02  0.50\n",
      "195  4.875  1.11  0.52\n",
      "196  4.900  1.04 -0.24\n",
      "\n",
      "[196 rows x 3 columns]\n"
     ]
    }
   ],
   "source": [
    "df = df.dropna()\n",
    "print(df)"
   ]
  },
  {
   "cell_type": "markdown",
   "id": "8d3b1e24-6797-41cd-8d8f-3f57bd030574",
   "metadata": {},
   "source": [
    "The `dropna()` method tells pandas to cut out any row which contains a `NaN` or missing value.\n",
    "\n",
    "We can also get a general summary of our data with pandas:"
   ]
  },
  {
   "cell_type": "code",
   "execution_count": 4,
   "id": "7d6e0bac-e589-4000-99dd-41e6222fc338",
   "metadata": {},
   "outputs": [
    {
     "data": {
      "text/html": [
       "<div>\n",
       "<style scoped>\n",
       "    .dataframe tbody tr th:only-of-type {\n",
       "        vertical-align: middle;\n",
       "    }\n",
       "\n",
       "    .dataframe tbody tr th {\n",
       "        vertical-align: top;\n",
       "    }\n",
       "\n",
       "    .dataframe thead th {\n",
       "        text-align: right;\n",
       "    }\n",
       "</style>\n",
       "<table border=\"1\" class=\"dataframe\">\n",
       "  <thead>\n",
       "    <tr style=\"text-align: right;\">\n",
       "      <th></th>\n",
       "      <th>t</th>\n",
       "      <th>x</th>\n",
       "      <th>v</th>\n",
       "    </tr>\n",
       "  </thead>\n",
       "  <tbody>\n",
       "    <tr>\n",
       "      <th>count</th>\n",
       "      <td>196.000000</td>\n",
       "      <td>196.000000</td>\n",
       "      <td>196.000000</td>\n",
       "    </tr>\n",
       "    <tr>\n",
       "      <th>mean</th>\n",
       "      <td>2.462500</td>\n",
       "      <td>1.233367</td>\n",
       "      <td>0.200974</td>\n",
       "    </tr>\n",
       "    <tr>\n",
       "      <th>std</th>\n",
       "      <td>1.418112</td>\n",
       "      <td>0.672957</td>\n",
       "      <td>1.895295</td>\n",
       "    </tr>\n",
       "    <tr>\n",
       "      <th>min</th>\n",
       "      <td>0.025000</td>\n",
       "      <td>0.080000</td>\n",
       "      <td>-6.070000</td>\n",
       "    </tr>\n",
       "    <tr>\n",
       "      <th>25%</th>\n",
       "      <td>1.243750</td>\n",
       "      <td>0.652500</td>\n",
       "      <td>0.000000</td>\n",
       "    </tr>\n",
       "    <tr>\n",
       "      <th>50%</th>\n",
       "      <td>2.462500</td>\n",
       "      <td>1.420000</td>\n",
       "      <td>0.035000</td>\n",
       "    </tr>\n",
       "    <tr>\n",
       "      <th>75%</th>\n",
       "      <td>3.681250</td>\n",
       "      <td>1.870000</td>\n",
       "      <td>0.900000</td>\n",
       "    </tr>\n",
       "    <tr>\n",
       "      <th>max</th>\n",
       "      <td>4.900000</td>\n",
       "      <td>1.870000</td>\n",
       "      <td>10.560000</td>\n",
       "    </tr>\n",
       "  </tbody>\n",
       "</table>\n",
       "</div>"
      ],
      "text/plain": [
       "                t           x           v\n",
       "count  196.000000  196.000000  196.000000\n",
       "mean     2.462500    1.233367    0.200974\n",
       "std      1.418112    0.672957    1.895295\n",
       "min      0.025000    0.080000   -6.070000\n",
       "25%      1.243750    0.652500    0.000000\n",
       "50%      2.462500    1.420000    0.035000\n",
       "75%      3.681250    1.870000    0.900000\n",
       "max      4.900000    1.870000   10.560000"
      ]
     },
     "execution_count": 4,
     "metadata": {},
     "output_type": "execute_result"
    }
   ],
   "source": [
    "df.describe()"
   ]
  },
  {
   "cell_type": "markdown",
   "id": "260fde38-ffaa-48ec-8b30-919ec2e8e13c",
   "metadata": {},
   "source": [
    "This prints the count (number of data points), mean, standard deviation, minimum, and maximum values, along with the values where 25, 50, and 75% of the data occur below that value.\n",
    "\n",
    "Those numbers aren't particularly useful here, but in many cases this kind of quick data summary is invaluable.\n",
    "\n",
    "No doubt some of your data were taken before you dropped the object, and your data continued after it hit the floor.  Let's exclude all of those data points.\n",
    "\n",
    "Remember when we said to note the time when you dropped the object, and when it hit the floor?  Let's use those values now.\n",
    "\n",
    "For this example, let's say the object was dropped at 0.4 seconds, and hit the floor at 2.2 seconds.  To exclude values outside of this range we can do the following:"
   ]
  },
  {
   "cell_type": "code",
   "execution_count": 5,
   "id": "bd49b26c-e58f-481f-b8a4-9965cc8784b4",
   "metadata": {},
   "outputs": [
    {
     "data": {
      "text/plain": [
       "count    71.000000\n",
       "mean      1.300000\n",
       "std       0.515994\n",
       "min       0.425000\n",
       "25%       0.862500\n",
       "50%       1.300000\n",
       "75%       1.737500\n",
       "max       2.175000\n",
       "Name: t, dtype: float64"
      ]
     },
     "execution_count": 5,
     "metadata": {},
     "output_type": "execute_result"
    }
   ],
   "source": [
    "df = df[(df.t > 0.4) & (df.t < 2.2)]    # You can use df.t to refer to the 't' column from your dataframe\n",
    "df.t.describe()"
   ]
  },
  {
   "cell_type": "markdown",
   "id": "e0d2d842-9677-4aa5-9a6b-1e0aad357fd5",
   "metadata": {},
   "source": [
    "Looking at just the time values, we can see it now begins at 0.425 seconds and goes until 2.175 seconds, just as we wanted.\n",
    "\n",
    "Now let's make a plot of velocity vs time."
   ]
  },
  {
   "cell_type": "code",
   "execution_count": 6,
   "id": "3c45f91e-6aab-49ab-b43f-b0c91569b67c",
   "metadata": {},
   "outputs": [
    {
     "data": {
      "image/png": "[encoded data removed]",
      "text/plain": [
       "<Figure size 432x288 with 1 Axes>"
      ]
     },
     "metadata": {
      "needs_background": "light"
     },
     "output_type": "display_data"
    }
   ],
   "source": [
    "import matplotlib.pyplot as plt\n",
    "plt.plot(df.t,df.v,'o')\n",
    "plt.xlabel('Time (s)',fontsize='large')\n",
    "plt.ylabel('Velocity (m/s)',fontsize='large')\n",
    "plt.show()"
   ]
  },
  {
   "cell_type": "markdown",
   "id": "ffe5f91e-ba6d-4467-a67b-13801b81ddd7",
   "metadata": {},
   "source": [
    "You will see the velocity approaches a constant value - the terminal velocity.\n",
    "\n",
    "To get an estimate of the drag coefficient, do the following:\n",
    "\n",
    "* use pandas to select the portion of your data where the velocity is constant\n",
    "\n",
    "* fit those data with a constant value (a zeroth-order polynomial)\n",
    "\n",
    "* from that value, estimate the drag coefficient $b$\n",
    "\n",
    "***"
   ]
  },
  {
   "cell_type": "markdown",
   "id": "3569df39-35a6-4aa1-a644-591efd69bf06",
   "metadata": {},
   "source": [
    "### Numerical solution of the equation of motion\n",
    "\n",
    "As stated above, the net force on the falling object is:\n",
    "\n",
    "$$ F_{\\rm net} = mg - bv^2 $$\n",
    "\n",
    "However this is actually a second order differential equation.  Because $F=ma$, and $a = d^2 x / dt^2$, we can write the above equation as:\n",
    "\n",
    "$$ \\frac{d^2 x}{dt^2} = g - \\frac{b}{m} \\left( \\frac{dx}{dt} \\right)^2 $$"
   ]
  },
  {
   "cell_type": "markdown",
   "id": "d63f90d1-935e-4b68-8f25-aab2a0dd2f6e",
   "metadata": {},
   "source": [
    "In this part of the lab, we will try to solve the above equation for $x(t)$ and compare it with your measured results.\n",
    "\n",
    "The equation above *does* have an analytical solution, but it's very unpleasant.  Instead we will solve it by integrating numerically.  Thankfully Python does all of the hard work for us - we only have to set it up.\n",
    "\n",
    "Walking you through a solution to the above equation would be a little too easy.  Instead we'll look at how to solve something similar - a mass on a spring with damping.  In that case, the equation of motion is given by:\n",
    "\n",
    "$$ \\frac{d^2 x}{dt^2} = -\\frac{k}{m} x - \\frac{b}{m} \\frac{dx}{dt} $$\n",
    "\n",
    "where the mass $m$ is subject to a damping force $-bv$ which acts opposite to velocity.\n",
    "\n",
    "We're going to use a function from the `scipy.integrate` module called `odeint` to solve our differential equation.  However there are really *two* differential equations here, one for $a$ and one for $v$.  So we will actually be solving two differential equations at once (again, the hard work is done for us).\n",
    "\n",
    "First, we need to set up a function which returns the derivative of each quantity we are trying to solve for:"
   ]
  },
  {
   "cell_type": "code",
   "execution_count": 7,
   "id": "c3925b87-dc40-407b-8a21-ab71a173d949",
   "metadata": {},
   "outputs": [],
   "source": [
    "def derivs(q,t,k,b,m):\n",
    "    x,v = q\n",
    "    dydt = [v,-k*x/m-b*v/m]\n",
    "    return dydt"
   ]
  },
  {
   "cell_type": "markdown",
   "id": "d09c172e-a1f7-4223-b0e3-a9427dfdc824",
   "metadata": {},
   "source": [
    "This function takes several inputs.  First, an array ($q$) which contains the position and velocity.  Then a value for time (which isn't used since our force doesn't depend on time).  And then finally the spring constant, drag coefficient, and mass for the system.\n",
    "\n",
    "Let's put in some initial values:"
   ]
  },
  {
   "cell_type": "code",
   "execution_count": 8,
   "id": "ffda423f-37e8-4be5-8f4f-baf2a65c638c",
   "metadata": {},
   "outputs": [],
   "source": [
    "import numpy as np\n",
    "\n",
    "k = 1.5    # spring constant in N/m\n",
    "b = 0.1    # drag coefficient in kg/s\n",
    "m = 0.2    # mass in kg\n",
    "\n",
    "q0 = [1,0] # initial position and velocity\n",
    "\n",
    "time = np.linspace(0,10,1000)"
   ]
  },
  {
   "cell_type": "markdown",
   "id": "aafec71f-4769-4c06-93d0-1813b4a64e0a",
   "metadata": {},
   "source": [
    "The last command will generate an array from 0 to 10 seconds, with 1000 elements.\n",
    "\n",
    "Now let's solve and plot the results."
   ]
  },
  {
   "cell_type": "code",
   "execution_count": 9,
   "id": "979bd974-de5f-4180-b8a4-0a05fea6ea5f",
   "metadata": {},
   "outputs": [],
   "source": [
    "from scipy.integrate import odeint\n",
    "sol = odeint(derivs,q0,time,args=(k,b,m))"
   ]
  },
  {
   "cell_type": "markdown",
   "id": "09eae04e-28cc-41be-a7d5-17d545957336",
   "metadata": {},
   "source": [
    "The solution (`sol`) is a two-column array, where one column is position and the other is velocity."
   ]
  },
  {
   "cell_type": "code",
   "execution_count": 10,
   "id": "0db24423-eacf-4889-a589-605ab2826e8b",
   "metadata": {},
   "outputs": [
    {
     "name": "stdout",
     "output_type": "stream",
     "text": [
      "[[ 1.          0.        ]\n",
      " [ 0.9996249  -0.07487812]\n",
      " [ 0.99850237 -0.1493263 ]\n",
      " ...\n",
      " [-0.03394861 -0.19759846]\n",
      " [-0.03590865 -0.19399594]\n",
      " [-0.03783199 -0.190266  ]]\n"
     ]
    }
   ],
   "source": [
    "print(sol)"
   ]
  },
  {
   "cell_type": "markdown",
   "id": "6a377f29-165c-4760-b861-19047e75abad",
   "metadata": {},
   "source": [
    "We'll need to pick all of the elements from the first (zeroth) column to look at position."
   ]
  },
  {
   "cell_type": "code",
   "execution_count": 11,
   "id": "2aaec9f4-0864-4ba4-8fd2-8bbbc171801c",
   "metadata": {},
   "outputs": [
    {
     "data": {
      "image/png": "[encoded data removed]",
      "text/plain": [
       "<Figure size 432x288 with 1 Axes>"
      ]
     },
     "metadata": {
      "needs_background": "light"
     },
     "output_type": "display_data"
    }
   ],
   "source": [
    "plt.plot(time,sol[:,0],'-')\n",
    "plt.xlabel('Time (s)',fontsize='large')\n",
    "plt.ylabel('Position (m)',fontsize='large')\n",
    "plt.show()"
   ]
  },
  {
   "cell_type": "markdown",
   "id": "a04c0eff-1610-47f5-aa16-d7be7cc919f9",
   "metadata": {},
   "source": [
    "You can see the motion oscillates, but is damped out over time, exactly as you would expect.\n",
    "\n",
    "* Following the procedure above, create a numerical solution for the equation of motion of your falling object.\n",
    "\n",
    "* Use the actual mass as the value for $m$, and use the value for $b$ you found above from your data.\n",
    "\n",
    "* Make a plot of position vs. time, and plot your simulation on the same plot as your actual data.  Note that you may need to start the time values for your simulation at the same time your data starts.  You may also need to adjust the starting position.\n",
    "\n",
    "***"
   ]
  },
  {
   "cell_type": "markdown",
   "id": "97a9c1b8-6573-4182-bf43-0f5a3c4928de",
   "metadata": {},
   "source": [
    "### To be submitted:\n",
    "\n",
    "* A header with the usual stuff\n",
    "\n",
    "* Plots of position vs. time and velocity vs. time from your data, excluding any \"bad\" values\n",
    "\n",
    "* Estimation of the drag coefficient $b$ based on your measurements\n",
    "\n",
    "* Your numerical solution to the equation of motion for the falling object\n",
    "\n",
    "* Your plot of position vs. time from the numerical solution, on the same plot as your actual data\n",
    "\n",
    "* Discussion of how well your numerical solution fit the actual data\n",
    "\n",
    "* Discussion of possible sources of error, if the solution is not a good fit to your data (note: there are *many*, but \"human error\" is not one of them)"
   ]
  }
 ],
 "metadata": {
  "kernelspec": {
   "display_name": "Python 3",
   "language": "python",
   "name": "python3"
  },
  "language_info": {
   "codemirror_mode": {
    "name": "ipython",
    "version": 3
   },
   "file_extension": ".py",
   "mimetype": "text/x-python",
   "name": "python",
   "nbconvert_exporter": "python",
   "pygments_lexer": "ipython3",
   "version": "3.8.8"
  }
 },
 "nbformat": 4,
 "nbformat_minor": 5
}
