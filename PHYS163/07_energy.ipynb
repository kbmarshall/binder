{
 "cells": [
  {
   "cell_type": "markdown",
   "id": "6c3e6fb7-4e9a-46ed-a3c3-ddbf76f4ca26",
   "metadata": {},
   "source": [
    "## Lab #7 - Energy Bounce\n",
    "\n",
    "### PHYS 163\n",
    "\n",
    "***"
   ]
  },
  {
   "cell_type": "markdown",
   "id": "e7f41554-9999-4d5e-885f-4c553a1c6823",
   "metadata": {},
   "source": [
    "In this lab we will look at the energy lost by a bouncing ball.  Let's assume the ball is dropped from an initial height $y_0$.  As the ball falls, gravitational potential energy is converted into kinetic energy.  When the ball hits the floor and bounces, some of the system's energy is converted into thermal and sound energy from the bounce.  The amount of energy lost is difficult to measure directly, but can be inferred from the change in the overall energy of the system.\n",
    "\n",
    "The initial gravitational potential energy of the ball is $U_{\\rm g} = mgy_0$.  Because some energy has been lost in the bounce, the ball will not return to the same height it started at.  Its maximum gravitational potential energy after the bounce is thus $U_{\\rm g} = mg y_{\\rm f}$, where $y_{\\rm f}$ is the maximum height of the ball after bouncing.\n",
    "\n",
    "The energy lost by the ball is then:\n",
    "\n",
    "$$ \\Delta U_{\\rm g} = mg \\Delta y = mg (y_{\\rm f} - y_0)$$\n",
    "\n",
    "Our goal in this lab is twofold:  first, to determine how much energy is lost when a ball bounces.  Second, to determine how the amount of energy changes with the initial height of the ball, or the type of ball. Is it a constant value, is it a percentage of the initial energy, or some combination of the two?  Or something else?\n",
    "\n",
    "***"
   ]
  },
  {
   "cell_type": "markdown",
   "id": "01e349dd-b340-4f59-86e1-b03f46b32012",
   "metadata": {},
   "source": [
    "### Experimental procedure:\n",
    "\n",
    "At the front of the room are several types of balls:  golf balls, ping pong balls, tennis balls, rubber superballs, and others.  There is also a scale located at the back of the lab room, near the computer.\n",
    "\n",
    "* Using the tools provided, determine the amount of energy lost in a single bounce of the ball.  You will need to measure the initial starting position (easy) and the maximum height after one bounce (difficult).  To get an accurate value, you may wish to make several measurements and take the average.  Alternately, you could try using the slow-motion video feature found on many phones.\n",
    "\n",
    "* Determine how the amount of energy lost relates to the initial potential energy of the ball.  Making a plot of energy lost vs. starting height may be useful.  You could also try making a plot of the fraction of initial energy lost vs. starting height.\n",
    "\n",
    "* Based on your preliminary results, try additional experiments to see how the energy lost may change with starting height.\n",
    "\n",
    "* Once you have solid results, try a different type of ball.  If you were using a \"hard\" ball before (golf, ping pong), try using a \"soft\" (rubber/tennis) ball next.  See how your results change (if at all).  (note: if you think of a golf ball as \"hard\" please watch [this video](https://www.youtube.com/watch?v=c-0dDKfw4NI), especially the driver)"
   ]
  },
  {
   "cell_type": "markdown",
   "id": "146b58dd-638f-462b-8330-779f6479f7f6",
   "metadata": {},
   "source": [
    "### To be included in your writeup:\n",
    "\n",
    "* Your methodology for determining the amount of energy lost in one bounce of the ball\n",
    "\n",
    "* Data, including any plots you made of energy lost vs. starting height\n",
    "\n",
    "* Analysis of your results.  Is the energy lost for each ball a constant value, a percentage, or something else?\n",
    "\n",
    "* Comparison with a different type of ball.  Did one ball lose more energy than the other?  Why might that be?"
   ]
  },
  {
   "cell_type": "code",
   "execution_count": null,
   "id": "abc64f2c-2624-415f-806e-ef24a1d77582",
   "metadata": {},
   "outputs": [],
   "source": []
  }
 ],
 "metadata": {
  "kernelspec": {
   "display_name": "Python 3",
   "language": "python",
   "name": "python3"
  },
  "language_info": {
   "codemirror_mode": {
    "name": "ipython",
    "version": 3
   },
   "file_extension": ".py",
   "mimetype": "text/x-python",
   "name": "python",
   "nbconvert_exporter": "python",
   "pygments_lexer": "ipython3",
   "version": "3.8.8"
  }
 },
 "nbformat": 4,
 "nbformat_minor": 5
}
