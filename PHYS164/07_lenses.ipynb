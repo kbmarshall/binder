{
 "cells": [
  {
   "cell_type": "markdown",
   "id": "94bdecd0-109e-4a30-9cc4-2771bd05e46b",
   "metadata": {},
   "source": [
    "## Lab #7 - Lenses and Telescopes\n",
    "\n",
    "### PHYS 164\n",
    "\n",
    "***"
   ]
  },
  {
   "cell_type": "markdown",
   "id": "5f01edb1-47be-4b55-8306-a238fa3e51c4",
   "metadata": {},
   "source": [
    "A lens consists of a substance whose index of refraction is different from that of the surroundings and is shaped so that it refracts light in a useful way. Lenses for visible wavelength optics are often made of glass, but lenses of silicon are used for very long wavelength light. Light generally passes through a lens and is bent in some way due to the change in the index of refraction and the angle at which the light enters the lens. The purpose of this lab is to acquaint you with focusing lenses, ray optics, and the rules which govern the production of images by lenses. You will apply these rules to construct simple image-producing devices.\n",
    "\n",
    "Making an image is useful because it can provide one with a highly magnified view of an object (as with a microscope) or a highly amplified view of an object (as with a telescope), or perhaps an opportunity to record the appearance of an object (as with a camera).\n",
    "\n",
    "***"
   ]
  },
  {
   "cell_type": "markdown",
   "id": "1c0f6b02-c1bd-4be2-8911-51a146e9212d",
   "metadata": {},
   "source": [
    "#### Single Lenses:\n",
    "\n",
    "* Set up the light source and a screen on the optical bench as shown in the figure below. Begin with the lens that has a focal length of +200 mm.  Turn on the light source. Select one of the lenses and place it on the optical bench 40 cm apart from the light source. Move the screen until it displays a sharply focused image of the source. Measure and record the distance between the light source and lens (the object distance, denoted $d_{\\rm o}$ ) and the distance between the lens and the focused image (the image distance, denoted $d_{\\rm i}$).\n",
    "\n",
    "* Measure and record the diameter of the lens.\n",
    "\n",
    "![title](images/bending_angle.jpg)\n",
    "\n",
    "* As the image shows, light rays from the source will be bent by an angle $\\theta$ by the lens.  Based on your values of $d_{\\rm o}$ and $d_{\\rm i}$, plus the diameter of the lens, calculate the bending angle $\\theta$ for your setup.\n",
    "\n",
    "* Now decrease $d_{\\rm o}$ by approximately 10 cm and locate the focused image of the source with the screen.  Again, calculate the bending angle for light rays from the source.  How does that compare to the bending angle you found above?\n",
    "\n",
    "* Based on your measurements above, estimate the distance $d_{\\rm i}$ at which a focused image can be obtained when aiming at an object extremely far away.  Remove the light source, and aim the lens at a distant object (such as a tree or building) out the window.  Move the screen until a focused image is obtained.  How does $d_{\\rm i}$ compare with your prediction above?  \n",
    "\n",
    "This distance is known as the focal length, and it is the distance $d_{\\rm i}$ at which parallel light rays will be focused (corresponding to $d_{\\rm o} = \\infty$.  Lenses with short focal lengths bend light more than lenses with long focal lengths, and hence the light is focused at a closer distance to the lens.\n",
    "\n",
    "In general, the focal length $f$, $d_{\\rm o}$, and $d_{\\rm i}$ are related through the thin lens equation:\n",
    "\n",
    "$$ \\frac{1}{f} = \\frac{1}{d_{\\rm o}} + \\frac{1}{d_{\\rm i}} $$\n",
    "\n",
    "* Calculate the focal length $f$ using the equation above, and the values for $d_{\\rm o}$ and $d_{\\rm i}$ from step 1 and step 3 above.  How do your values compare with the focal length you previously measured?\n",
    "\n",
    "* The magnification, $m$, is the ratio of the image size to the source size.  Adjust $d_{\\rm o}$ and $d_{\\rm i}$ until the image and source are the same size, and record the values of $d_{\\rm o}$ and $d_{\\rm i}$.\n",
    "\n",
    "* Now make a focused image that is one half the size of the source, and record the values of $d_{\\rm o}$ and $d_{\\rm i}$.\n",
    "\n",
    "* Based on your measurements above, try to deduce a simple equation relating $m$, $d_{\\rm o}$, and $d_{\\rm i}$.\n",
    "\n"
   ]
  },
  {
   "cell_type": "markdown",
   "id": "bf4d6415-cacb-4ed9-9109-84316c8c0731",
   "metadata": {},
   "source": [
    "#### Multiple Lenses:\n",
    "\n",
    "A single lens creates a real image — that is, a series of points in space where light rays from the source converge to a focus. Real images are useful for photography, where the aim is to focus an image onto a film/detector placed at the focal plane.  However, it’s really hard to examine a real image directly with your eyes, mainly because the light rays from each piece of the image are strongly divergent.\n",
    "\n",
    "* Place your eye along the optical bench about 25 cm beyond the point at which a lens focuses the source light into an image. Verify that you see an upside down and reversed version of the original object.\n",
    "\n",
    "There are three problems with this way of looking at the magnified image:\n",
    "\n",
    "    - much of the light from a given point on the object misses the pupil (en-trance aperture) of the eye, so what you see is dimmer than it otherwise might be\n",
    "\n",
    "    - you have to move your eye around to see the entire image\n",
    "    \n",
    "    - your eye must be some distance from the image (about 25 cm for an observer who is neither nearsighted nor farsighted) in order to see it clearly. Ideally, all of the light that constitutes the image would be directed into your pupil. Then the image would be brighter, and you wouldn’t have to move your head to see each part of the image. This can be done by adding a second lens, the eyepiece, between the first lens and the eye. The lens closer to the source, the objective, produces an (intermediate) image of the source between the two lenses. The eyepiece treats this intermediate image as a new source, intercepts the diverging rays from it and straightens them out into a cylinder, or column, of light so all of this light can enter your eye. Your eye is good at focusing such collimated light.\n",
    "    \n",
    "*  The simplest two-lens optical device is the telescope, which is designed to increase the angular magnification and brightness of distant objects. You can set up a telescope using two lenses and a meter-stick. Use the lens with smallest focal length as your eyepiece, and the largest one as your objective lens. Construct your telescope and point it out a window at a distant object.  Change the separation between the two lenses until you see a sharply focused image when looking through the eyepiece.\n",
    "\n",
    "* Measure the separation between the two lenses. Given that you’re viewing a distant object, how far behind the objective lens would you expect the real image to be? Test your prediction by placing the screen at this position (somewhere between the two lenses). What do you see?\n",
    "\n",
    "* Measure the distance between the position of the real image and the eyepiece. Is this distance comparable to any other numbers pertinent to the lenses?\n",
    "\n",
    "*  Focus your telescope on a closer object, e.g., a light source on another group’s lab table. What do you need to do in order to obtain a sharp focus? Based on the distance to the observed object and the lens equation, where do you think the real image should be? Test your conclusion with a white card. What is the distance between the position of the real image and the eyepiece? Did this distance change when you re-focused on the closer object? Why not?\n",
    "\n",
    "* Focus your telescope on a very nearby object, located perhaps only a couple of objective focal lengths away (use your crossed-arrow light source as the object). What do you need to do in order to obtain a sharp focus? Measure the distance to the observed object and using the lens equation, determine where you think the real image should be. Test your conclusion with a white card. What is the new distance between the position of the real image and the eyepiece? Compare with your previous measurements of this distance.\n",
    "\n",
    "In this last case, you’re using the pair of lenses to examine a nearby object at\n",
    "high magnification. This assembly put to this purpose would more naturally be\n",
    "called a microscope than a telescope. In fact, both instruments are essentially\n",
    "the same pieces of equipment; the only real difference lies in their use.\n",
    "\n",
    "*  Based on your experimentation with the telescope/microscope, briefly explain in your lab notebook the purpose of each lens in your instrument.\n",
    "\n",
    "***"
   ]
  },
  {
   "cell_type": "markdown",
   "id": "e57cca73-49d0-44bd-bdd4-415ad9e91ebc",
   "metadata": {},
   "source": [
    "#### To be included in your notebook:\n",
    "\n",
    "* A header with the usual info\n",
    "\n",
    "* Calculations of the bending angle for the single lens setups\n",
    "\n",
    "* Calculations of the focal length using the lens equation\n",
    "\n",
    "* Your simple equation to relate $m$, $d_{\\rm o}$, and $d_{\\rm i}$, and how you obtained it\n",
    "\n",
    "* Answers to all questions in the notebook above"
   ]
  },
  {
   "cell_type": "code",
   "execution_count": null,
   "id": "e2f11bdd-bb44-4bfa-b4ca-f0258f7df5e1",
   "metadata": {},
   "outputs": [],
   "source": []
  }
 ],
 "metadata": {
  "kernelspec": {
   "display_name": "Python 3",
   "language": "python",
   "name": "python3"
  },
  "language_info": {
   "codemirror_mode": {
    "name": "ipython",
    "version": 3
   },
   "file_extension": ".py",
   "mimetype": "text/x-python",
   "name": "python",
   "nbconvert_exporter": "python",
   "pygments_lexer": "ipython3",
   "version": "3.8.8"
  }
 },
 "nbformat": 4,
 "nbformat_minor": 5
}
