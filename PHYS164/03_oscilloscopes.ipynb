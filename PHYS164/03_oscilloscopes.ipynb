{
 "cells": [
  {
   "cell_type": "markdown",
   "id": "f502af8d-0945-4e6a-b145-4e43f3c5cb2a",
   "metadata": {},
   "source": [
    "## Lab 3 - Introduction to the Oscilloscope\n",
    "\n",
    "### PHYS 164\n",
    "\n",
    "***"
   ]
  },
  {
   "cell_type": "markdown",
   "id": "c1f8af9b-e0f5-446f-a88b-ec66c530309c",
   "metadata": {},
   "source": [
    "This lab is somewhat different than other labs you have completed previously.  In this lab, you will be learning how to use the oscilloscope.\n",
    "\n",
    "The oscilloscope is one of the most useful and most common pieces of electronic measrurement equipment.  Using the scope, you can measure voltages, frequencies, time delays, and much more.\n",
    "\n",
    "The basic operation is fairly simple:  the scope is connected to a voltage source.  The screen displays the voltage as a function of time.  There are 2 channels on this scope, which means it can display two signals at the same time.\n",
    "\n",
    "In this lab, a function generator is connected to a resistor.  The function generator is set to produce voltage fluctuations in the form of a sine wave, with an adjustable frequency.  **During this lab you should not adjust any controls on the function generator, with the possible exception of the frequency knob on the left.**\n",
    "\n",
    "The two channels have been connected to two different sources:  one channel is connected to the resistor, and should show a sine wave.  The other channel is connected to an output on the function generator which should produce a square wave, with the same frequency but a different amplitude compared\n",
    "\n",
    "Your goal in this lab will be to explore the functions of the oscilloscope, and create a reference document / manual which can be used for its operation.\n",
    "\n",
    "***"
   ]
  },
  {
   "cell_type": "markdown",
   "id": "8f67a817-1ddb-4baa-a8f2-fd7c8f58d0ce",
   "metadata": {},
   "source": [
    "#### What to include in your lab report:\n",
    "\n",
    "By experimenting, you should determine how the following affect the display:\n",
    "\n",
    "* vertical and horizontal scales\n",
    "\n",
    "* vertical and horizontal position\n",
    "\n",
    "You should also measure the amplitude and period of the signal two different ways:\n",
    "\n",
    "* by using the \"Cursor\" function\n",
    "\n",
    "* by using the \"Measure\" function\n",
    "\n",
    "Your writeup should be akin to a manual for the scope, which another student could use to measure a signal if necessary.  You will be graded mainly on the quality of your writing, and not so much on your measurements.\n",
    "\n",
    "Some tips:\n",
    "\n",
    "* The \"Auto\" button is your friend\n",
    "\n",
    "* You can't really break anything, so don't be afraid to push buttons."
   ]
  }
 ],
 "metadata": {
  "kernelspec": {
   "display_name": "Python 3 (ipykernel)",
   "language": "python",
   "name": "python3"
  },
  "language_info": {
   "codemirror_mode": {
    "name": "ipython",
    "version": 3
   },
   "file_extension": ".py",
   "mimetype": "text/x-python",
   "name": "python",
   "nbconvert_exporter": "python",
   "pygments_lexer": "ipython3",
   "version": "3.7.12"
  }
 },
 "nbformat": 4,
 "nbformat_minor": 5
}
