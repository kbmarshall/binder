{
 "cells": [
  {
   "cell_type": "markdown",
   "id": "dc395b58-17b8-4063-8295-cf0c5b1d147d",
   "metadata": {},
   "source": [
    "## Lab #5 - Induction and Deduction\n",
    "\n",
    "### PHYS 164\n",
    "\n",
    "***"
   ]
  },
  {
   "cell_type": "markdown",
   "id": "3ba5377b-f228-40ea-94fc-aa5fd1c32f4d",
   "metadata": {},
   "source": [
    "Your lab instructor will show you a demonstration at the beginning of lab, involving a magnet and a coil of wire.  **Your first task is to brainstorm with your group members about all the possible variables which could affect the outcome of the demonstration.**  Be prepared to share your list with the class by distinguishing between variables that are testable within lab and variables that may not be testable (e.g. due to limitations in equipment, or ease of measurement)\n",
    "\n",
    "After your instructor assigns you a variable to test, devise a plan to qualitatively and quantitatively assess the effects of that variable.\n",
    "  *  You may use any measuring equipment which is available in the lab room, which includes (but is not limited to) oscilloscopes, multimeters, rulers, and a magnetic field sensor.\n",
    "  * Build a body of evidence that rules out possibilities and provides support for other possibilities.\n",
    "  * Use existing tools we have learned, such as curve fitting, $t^{\\prime}$ scores, etc. to assess your model.\n",
    "  * Use qualitative evidence to propose several possible models, and then quantitatively compare your data to each model.\n",
    "  \n",
    "  ***"
   ]
  },
  {
   "cell_type": "markdown",
   "id": "50c30b54-5730-43f1-89e6-b1a3b8f792c5",
   "metadata": {},
   "source": [
    "At the end of the second week, your group will give a 5 minute presentation (1-2 minutes for each group member).  In your presentation, you should address:\n",
    "\n",
    "* a short explanation of the variable you tested\n",
    "* a brief summary of the tests you conducted\n",
    "* 1-2 major results\n",
    "* at least one way to continue to your variable or improve your measurements (you can mention equipment that was not available here)\n",
    "\n",
    "You will also write up your results in the form of a traditional lab report.  Your grade will be based on both your written report and your presentation.  All group members will receive the same grade for the oral part of their presentation.\n",
    "\n",
    "***"
   ]
  },
  {
   "cell_type": "markdown",
   "id": "92de8988-10d8-4eaf-a0b6-616321c95dce",
   "metadata": {},
   "source": [
    "#### Some hints:\n",
    "\n",
    "**How do I get a signal on the oscilloscope?** Make sure you are using an appropriate timescale.  Think about how long it takes the magnet to fall through the coil.\n",
    "\n",
    "**How do I get the signal to stay on the screen?** Use triggering, which is the process of starting a \"sweep\" of the oscilloscope screen.  The scope waits for the signal to surpass a triggering voltage (adjustable with the triggering knob) before starting a new sweep.  You want the triggering voltage to be high enough to avoid noise, but low enough to show the induced voltage difference.\n",
    "\n",
    "You can also change the \"Sweep\" setting in the Trigger menu to \"Single.\"  Use the Run/Stop button to freeze the scope display or collect data.\n",
    "\n",
    "**How do I measure things?** Use the measure function or the cursors.  Note that the measure function has many useful things, such as peak voltage, minimum voltage, etc.\n",
    "\n",
    "**Can I make my own coil?** Yes, you can use the wire spools to create your own coil.  Wrap the wire tightly around the spool.  Note that the wire is enamel wire, which means it is coated with an insulating enamel.  To connect the wire to the scope probe you will need to **sand off** the enamel on the last 1-2 cm of your coil.\n",
    "\n",
    "Don't forget the oscilloscope manual is available as well.  Section 3-3 may prove useful.\n",
    "\n",
    "***"
   ]
  },
  {
   "cell_type": "markdown",
   "id": "4f5aa718-f813-4487-ad7b-31987dbfb8fd",
   "metadata": {},
   "source": [
    "### **IMPORTANT:  The magnets are very strong, which means they should be kept away from electronic devices.  You should also be careful about where you set them down, i.e. not near metal objects.  They are also very brittle, which means you should NOT let them drop directly on the floor or lab table.  Place a (somewhat) soft object underneath, such as a jacket, textbook, etc.**"
   ]
  },
  {
   "cell_type": "code",
   "execution_count": null,
   "id": "6437b8e3-6f3b-4303-989c-a9a387ee5e98",
   "metadata": {},
   "outputs": [],
   "source": []
  }
 ],
 "metadata": {
  "kernelspec": {
   "display_name": "Python 3",
   "language": "python",
   "name": "python3"
  },
  "language_info": {
   "codemirror_mode": {
    "name": "ipython",
    "version": 3
   },
   "file_extension": ".py",
   "mimetype": "text/x-python",
   "name": "python",
   "nbconvert_exporter": "python",
   "pygments_lexer": "ipython3",
   "version": "3.8.8"
  }
 },
 "nbformat": 4,
 "nbformat_minor": 5
}
