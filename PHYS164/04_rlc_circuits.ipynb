{
  "metadata": {
    "language_info": {
      "codemirror_mode": {
        "name": "python",
        "version": 3
      },
      "file_extension": ".py",
      "mimetype": "text/x-python",
      "name": "python",
      "nbconvert_exporter": "python",
      "pygments_lexer": "ipython3",
      "version": "3.8"
    },
    "kernelspec": {
      "name": "python",
      "display_name": "Pyolite",
      "language": "python"
    }
  },
  "nbformat_minor": 4,
  "nbformat": 4,
  "cells": [
    {
      "cell_type": "markdown",
      "source": "## Lab #4 - RLC Circuits\n\n### PHYS 164\n\n***",
      "metadata": {}
    },
    {
      "cell_type": "markdown",
      "source": "In this lab we will look at the behavior of an RLC circuit which consists of a resistor (R), inductor (L), and capacitor (C).\n\nAn inductor is a coil of wire that resists changes in current. As the current changes, the magnetic flux through the inductor also changes.  This change in flux introduces a potential opposite to the original one which resists the change.  For an inductor, the potential is given by:\n\n$$ \\Delta V = L \\frac{dI}{dt}$$\n\nwhere $L$ is the inductance, which depends on the properties of the inductor itself.\n\nSince $I = dQ/dt$, we can write the potential difference as:\n\n$$ \\Delta V = L \\frac{d^2 Q}{dt^2} $$\n\nFor a capacitor, the potential difference is given by $\\Delta V = Q/C$, where $C$ is the capacitance.  And for a resistor, the potential difference is given by $\\Delta V = IR = R dQ/dt$.\n\nWith all three in series, Kirchoff's voltage law says the total change in potential must be zero, so:\n\n$$ L \\frac{d^2 Q}{dt^2} + R \\frac{dQ}{dt} + \\frac{Q}{C} = 0 $$\n\nThis equation is analogous to a mass on a spring which is also subject to a damping force (proportional to velocity).  In that case, the net force can be written as:\n\n$$ m \\frac{d^2 x}{dt^2} + b \\frac{dx}{dt} + kx = 0 $$\n\nwhere $b$ is the damping constant and $k$ is the spring constant.  For our RLC circuit, the inductance $L$ is equivalent to mass, the resistor provides damping, and the 'spring constant' is $1/C$.\n\nSimilar to a traditional mass-spring system, we can find the natural frequency of oscillation.  Continuing our analogy, the frequency of oscillation should be:\n\n$$ \\omega_0 = \\sqrt{\\frac{1}{LC}} $$\n\nBecause of damping, the amplitude of oscillation will also decay over time.  We can use theory to predict what the half-life of this decay is, i.e. the time needed for the amplitude to reach half of its initial value.\n\nFor an RLC circuit, the half life is given by:\n\n$$ t_{1/2} = \\frac{2L}{R} \\ln 2 $$\n\n***",
      "metadata": {}
    },
    {
      "cell_type": "markdown",
      "source": "### Experimental Procedure\n\n* Connect your circuit as shown below.  The 1 k$\\Omega$ resistor has brown-black-red bands on your circuit board.  The inductor is the blue cylinder, and the 100 pF capacitor is the smallest of the three green components.  The oscilloscope should be configured to measure the potential difference across the capacitor.\n\n![rlc_circuit](images/rlc_circuit.png)\n\n* Adjust the oscilloscope (try 5 $\\mu$s/div to start) and function generator (try f=1500 Hz) until you can clearly see the exponential decay of the signal.\n\n* Use the cursors to measure $f_0$, the frequency of the decaying oscillations\n\n* Use the cursors to measure the half-life of the decaying oscillations, finding the time for the voltage to drop to half of its initial value.  Note that you may need to adjust settings on the oscilloscope, and you can also adjust the output voltage of the function generator as well.\n\n**Important note:** The oscilloscope has its own internal capacitance of 15 pF.  That makes the overall capacitance of the circuit 115 pF.\n\n***",
      "metadata": {}
    },
    {
      "cell_type": "markdown",
      "source": "### Analysis\n\n* Using the measured frequency, calculate $\\omega_0 = 2\\pi f_0$.  Compare your result with the expected value.  Find the uncertainty for both your value, and the expected one.\n\n* Compare your measured half-life with the expected value.  Find the uncertainty for both your value, and the expected one.\n\n***",
      "metadata": {}
    },
    {
      "cell_type": "markdown",
      "source": "### A note on uncertainties:\n\nWe have discussed uncertainties for plots, but not much regarding calculated values.  If you are multiplying (or dividing) two values, the *fractional* uncertainty in the product (or quotient) is given by the sum of the *fractional* uncertainty of each component. That is, if $z = xy$ **or** if $z=x/y$,\n\n$$ \\frac{\\delta z}{z} = \\frac{\\delta x}{x} + \\frac{\\delta y}{y} $$\n\nwhere $\\delta z$ is the uncertainty in $z$, etc.\n\nIf we are raising a quantity to some power, the fractional uncertainty is multiplied by the absolute value of that power.  For example, if $y = x^n$,\n\n$$ \\frac{\\delta y}{y} = |n| \\frac{\\delta x}{x} $$\n\nThese can be used in combination to find the overall uncertainty for quantities like $\\omega_0$.\n\n**Note that all components used in this lab have an uncertainty of 10%.**",
      "metadata": {}
    },
    {
      "cell_type": "code",
      "source": "",
      "metadata": {},
      "execution_count": null,
      "outputs": []
    }
  ]
}