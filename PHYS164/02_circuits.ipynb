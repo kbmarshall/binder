{
 "cells": [
  {
   "cell_type": "markdown",
   "id": "5e34a62a-fedb-417e-a985-f29e74689e40",
   "metadata": {},
   "source": [
    "## Lab 2 - Ohm's Law\n",
    "\n",
    "### PHYS 164\n",
    "\n",
    "***"
   ]
  },
  {
   "cell_type": "markdown",
   "id": "3ef1c227-070a-4448-a9fa-d21ec8bcaa2f",
   "metadata": {},
   "source": [
    "#### Introduction\n",
    "\n",
    "In this experiment we will look at the validity of Ohm's law for several different types of circuits.  Ohm's law relates three different quantities:  voltage, current, and resistance.  Voltage (or potential) measures the amount of work done per Coulomb as it moves through part of the circuit.  Current measures the rate at which charge flows past a point in a circuit (measured in Amperes, or C/s).  And finally, resistance (measured in Ohms $\\Omega$) is a mesure of how much energy is dissipated as a function of potential and current.  They are related by:\n",
    "\n",
    "$$ \\Delta V = IR$$\n",
    "\n",
    "or alternately,\n",
    "\n",
    "$$ I = \\frac{\\Delta V}{R}$$\n",
    "\n",
    "In this lab, we will set up several different circuits, measuring the potential and current for each.  By making plots of current vs. resistance, we can see if our circuits agree with Ohm's law.\n",
    "\n",
    "**Note:** for more information about fitting data with a straight line, or making plots, refer to lab #3 in the PHYS 163 folder.\n",
    "\n",
    "***"
   ]
  },
  {
   "cell_type": "markdown",
   "id": "21d1b87a-8431-4891-b1ab-2c1f2e1de243",
   "metadata": {},
   "source": [
    "#### Data Collection\n",
    "\n",
    "Begin by setting up the circuit below.  A represents the ammeter, which will measure current.  V represents the voltmeter, which will measure voltage across the resistor.  For both, we will be using the green multimeters you see on your lab table.  By turning the knob, we can set each meter to measure voltage, current, or something else entirely.\n",
    "\n",
    "![circuit](images/circuit.png)"
   ]
  },
  {
   "cell_type": "markdown",
   "id": "eae67438-3b64-4ba3-bad6-f24877123bd7",
   "metadata": {},
   "source": [
    "Set up your circuit as shown above, using the DC power supply and the resistor box.  **Have your lab instructor inspect your circuit before turning on the power**\n",
    "\n",
    "Your goal is to create a plot of current vs. voltage.  Choose a value for $R$, and vary the voltage, recording the current at each voltage measurement.  **Your value for $R$ should be at least 1000 $\\Omega$**, so that the current does not exceed 100 mA.\n",
    "\n",
    "* Take measurements of $V$ and $I$, and create a plot with voltage along the x-axis and current along the y-axis.\n",
    "\n",
    "* Fit your plot with a straight line, and determine the goodness of fit using a $\\chi^2$ statistic.  As a reminder, $\\chi^2$ is defined by:\n",
    "\n",
    "$$ \\chi^2 = \\frac{1}{N} \\Sigma_{i=1}^N \\frac{(O_i - E_i)^2}{\\sigma_i^2} $$\n",
    "\n",
    "where $N$ is the number of data points, $O_i$ are the observed data, $E_i$ are the expected values (based on your fit), and $sigma_i$ are the uncertainty of each data point.  The manufacturer of the multimeter we use cites the uncertainty in current as 1.2% of the current, for the 200 mA scale.\n",
    "\n",
    "* From Ohm's law, determine what the expected slope and y-intercept of your trendline should be.  Compare these with the actual slope and y-intercept of your best-fit line.\n",
    "\n",
    "* Determine the uncertainties in the best-fit line using the covariance matrix.  If you are using the `np.polyfit` function, the method is:\n",
    "\n",
    "`p,cov = np.polyfit(x,y,1,cov=True)\n",
    "print(np.sqrt(np.diag(cov)))`\n",
    "\n",
    "This will print the uncertainties in each of your fit parameters.\n",
    "\n",
    "* State whether the expected slope and y-intercept are within the range given by your fit parameters, when taking into account the uncertainties."
   ]
  },
  {
   "cell_type": "code",
   "execution_count": null,
   "id": "c72f2018-9ae8-4e76-8c5d-9420283b147b",
   "metadata": {},
   "outputs": [],
   "source": []
  }
 ],
 "metadata": {
  "kernelspec": {
   "display_name": "Python 3",
   "language": "python",
   "name": "python3"
  },
  "language_info": {
   "codemirror_mode": {
    "name": "ipython",
    "version": 3
   },
   "file_extension": ".py",
   "mimetype": "text/x-python",
   "name": "python",
   "nbconvert_exporter": "python",
   "pygments_lexer": "ipython3",
   "version": "3.8.8"
  }
 },
 "nbformat": 4,
 "nbformat_minor": 5
}
